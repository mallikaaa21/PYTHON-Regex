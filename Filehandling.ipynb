{
  "nbformat": 4,
  "nbformat_minor": 0,
  "metadata": {
    "colab": {
      "provenance": []
    },
    "kernelspec": {
      "name": "python3",
      "display_name": "Python 3"
    },
    "language_info": {
      "name": "python"
    }
  },
  "cells": [
    {
      "cell_type": "code",
      "execution_count": null,
      "metadata": {
        "colab": {
          "base_uri": "https://localhost:8080/",
          "height": 35
        },
        "id": "paqWI3H01yV1",
        "outputId": "cc09b1ef-6b40-4f0a-f013-df86867bd414"
      },
      "outputs": [
        {
          "output_type": "execute_result",
          "data": {
            "text/plain": [
              "'hello'"
            ],
            "application/vnd.google.colaboratory.intrinsic+json": {
              "type": "string"
            }
          },
          "metadata": {},
          "execution_count": 1
        }
      ],
      "source": [
        "out = lambda x : \"hello\"\n",
        "out(10)"
      ]
    },
    {
      "cell_type": "code",
      "source": [
        "#[\"hey\", \"hello\"]\n",
        "len(\"hey\")"
      ],
      "metadata": {
        "colab": {
          "base_uri": "https://localhost:8080/"
        },
        "id": "xR4U_F85Z7_z",
        "outputId": "c8231c1b-6258-47bd-8556-bdc60c19e937"
      },
      "execution_count": null,
      "outputs": [
        {
          "output_type": "execute_result",
          "data": {
            "text/plain": [
              "3"
            ]
          },
          "metadata": {},
          "execution_count": 2
        }
      ]
    },
    {
      "cell_type": "code",
      "source": [
        "list1= [\"hey\", \"hello\"]\n",
        "map(len, list1)     #genrator"
      ],
      "metadata": {
        "colab": {
          "base_uri": "https://localhost:8080/"
        },
        "id": "Bdo04ccGaINU",
        "outputId": "e72c66b7-68f3-4c2d-cd9c-39620feb0ff8"
      },
      "execution_count": null,
      "outputs": [
        {
          "output_type": "execute_result",
          "data": {
            "text/plain": [
              "<map at 0x7e29215c1f30>"
            ]
          },
          "metadata": {},
          "execution_count": 3
        }
      ]
    },
    {
      "cell_type": "code",
      "source": [
        "list1= [\"hey\", \"hello\"]\n",
        "list(map(len, list1) )"
      ],
      "metadata": {
        "colab": {
          "base_uri": "https://localhost:8080/"
        },
        "id": "bdU7ZK7uaYCw",
        "outputId": "4ac582a1-1eb9-46d7-b617-48a8af1c4c12"
      },
      "execution_count": null,
      "outputs": [
        {
          "output_type": "execute_result",
          "data": {
            "text/plain": [
              "[3, 5]"
            ]
          },
          "metadata": {},
          "execution_count": 4
        }
      ]
    },
    {
      "cell_type": "code",
      "source": [
        "list1= [\"hey\", \"hello\"]\n",
        "list(map(lambda x : (x, 1) ,list1) )"
      ],
      "metadata": {
        "colab": {
          "base_uri": "https://localhost:8080/"
        },
        "id": "aUv2yAIrakN_",
        "outputId": "3f3c4671-86c0-413f-f4ee-6c060aad374c"
      },
      "execution_count": null,
      "outputs": [
        {
          "output_type": "execute_result",
          "data": {
            "text/plain": [
              "[('hey', 1), ('hello', 1)]"
            ]
          },
          "metadata": {},
          "execution_count": 9
        }
      ]
    },
    {
      "cell_type": "code",
      "source": [
        "def func():\n",
        "   print(\"cake\")\n",
        "# call function\n",
        "func()"
      ],
      "metadata": {
        "colab": {
          "base_uri": "https://localhost:8080/"
        },
        "id": "JgNXv5ZVbQ0N",
        "outputId": "2b3e8f45-7c7e-4689-8303-9d443eec42dd"
      },
      "execution_count": null,
      "outputs": [
        {
          "output_type": "stream",
          "name": "stdout",
          "text": [
            "cake\n"
          ]
        }
      ]
    },
    {
      "cell_type": "code",
      "source": [
        "def func(num):\n",
        "   print(\"cake\", num)\n",
        "# call function\n",
        "func()"
      ],
      "metadata": {
        "colab": {
          "base_uri": "https://localhost:8080/",
          "height": 176
        },
        "id": "rgTc_clNbcwN",
        "outputId": "5b0afb06-260c-4c03-c717-b983a1f1c62a"
      },
      "execution_count": null,
      "outputs": [
        {
          "output_type": "error",
          "ename": "TypeError",
          "evalue": "func() missing 1 required positional argument: 'num'",
          "traceback": [
            "\u001b[0;31m---------------------------------------------------------------------------\u001b[0m",
            "\u001b[0;31mTypeError\u001b[0m                                 Traceback (most recent call last)",
            "\u001b[0;32m<ipython-input-11-1fe95e05d41e>\u001b[0m in \u001b[0;36m<cell line: 4>\u001b[0;34m()\u001b[0m\n\u001b[1;32m      2\u001b[0m    \u001b[0mprint\u001b[0m\u001b[0;34m(\u001b[0m\u001b[0;34m\"cake\"\u001b[0m\u001b[0;34m,\u001b[0m \u001b[0mnum\u001b[0m\u001b[0;34m)\u001b[0m\u001b[0;34m\u001b[0m\u001b[0;34m\u001b[0m\u001b[0m\n\u001b[1;32m      3\u001b[0m \u001b[0;31m# call function\u001b[0m\u001b[0;34m\u001b[0m\u001b[0;34m\u001b[0m\u001b[0m\n\u001b[0;32m----> 4\u001b[0;31m \u001b[0mfunc\u001b[0m\u001b[0;34m(\u001b[0m\u001b[0;34m)\u001b[0m\u001b[0;34m\u001b[0m\u001b[0;34m\u001b[0m\u001b[0m\n\u001b[0m",
            "\u001b[0;31mTypeError\u001b[0m: func() missing 1 required positional argument: 'num'"
          ]
        }
      ]
    },
    {
      "cell_type": "code",
      "source": [
        "def func(num):\n",
        "   print(\"cake\", num)\n",
        "# call function\n",
        "func(100)"
      ],
      "metadata": {
        "colab": {
          "base_uri": "https://localhost:8080/"
        },
        "id": "EvgiTB2OblHR",
        "outputId": "4b942784-36ef-4279-f20f-4490c796eea0"
      },
      "execution_count": null,
      "outputs": [
        {
          "output_type": "stream",
          "name": "stdout",
          "text": [
            "cake 100\n"
          ]
        }
      ]
    },
    {
      "cell_type": "code",
      "source": [
        "def func(num):\n",
        "   print(\"cake\", num)\n",
        "# call function\n",
        "out = func(100)\n",
        "print(out)"
      ],
      "metadata": {
        "colab": {
          "base_uri": "https://localhost:8080/"
        },
        "id": "ntw1bijxbphs",
        "outputId": "a8787b91-2e08-47db-b7c2-a3d04852e39e"
      },
      "execution_count": null,
      "outputs": [
        {
          "output_type": "stream",
          "name": "stdout",
          "text": [
            "cake 100\n",
            "None\n"
          ]
        }
      ]
    },
    {
      "cell_type": "code",
      "source": [
        "def func(num):\n",
        "   print(\"cake\", num)\n",
        "   return \"gift\"\n",
        "# call function\n",
        "out = func(100)\n",
        "print(out)"
      ],
      "metadata": {
        "colab": {
          "base_uri": "https://localhost:8080/"
        },
        "id": "K66NMivEb40L",
        "outputId": "aad9d73d-7ccd-404c-f61b-d8c7b4a95c78"
      },
      "execution_count": null,
      "outputs": [
        {
          "output_type": "stream",
          "name": "stdout",
          "text": [
            "cake 100\n",
            "gift\n"
          ]
        }
      ]
    },
    {
      "cell_type": "code",
      "source": [
        "def func(num):\n",
        "   print(\"cake\", num)\n",
        "   return \"100\"\n",
        "# call function\n",
        "out = func(100)\n",
        "print(out)"
      ],
      "metadata": {
        "colab": {
          "base_uri": "https://localhost:8080/"
        },
        "id": "houOHMlhcAgs",
        "outputId": "987d0933-30da-4235-ed29-e8b8708b15df"
      },
      "execution_count": null,
      "outputs": [
        {
          "output_type": "stream",
          "name": "stdout",
          "text": [
            "cake 100\n",
            "100\n"
          ]
        }
      ]
    },
    {
      "cell_type": "code",
      "source": [
        "def func(num):\n",
        "   print(\"cake\", num)\n",
        "   return \"200\"\n",
        "   return \"gift\"   # out of function\n",
        "# call function\n",
        "out = func(100)\n",
        "print(out)"
      ],
      "metadata": {
        "colab": {
          "base_uri": "https://localhost:8080/"
        },
        "id": "JqPxWIvVcH-t",
        "outputId": "b74b067c-d405-4d8a-ebdf-a0b70ea05e75"
      },
      "execution_count": null,
      "outputs": [
        {
          "output_type": "stream",
          "name": "stdout",
          "text": [
            "cake 100\n",
            "200\n"
          ]
        }
      ]
    },
    {
      "cell_type": "code",
      "source": [
        "# FILE handling :\n",
        "#mechanism => file task\n",
        "# read / write\n",
        "#Need ? =\n",
        "# open\n",
        "# read / write\n",
        "# close\n"
      ],
      "metadata": {
        "id": "utM6LN0Ocm7l"
      },
      "execution_count": null,
      "outputs": []
    },
    {
      "cell_type": "code",
      "source": [
        "#file object\n",
        "fileobj = open(\"regex.txt\")\n",
        "fileobj.read()\n",
        "fileobj.close()\n"
      ],
      "metadata": {
        "id": "VJAVOWdwe0OS"
      },
      "execution_count": null,
      "outputs": []
    },
    {
      "cell_type": "code",
      "source": [
        "# file object # access mode\n",
        "fileobj = open(\"regex.txt\", \"w\")\n",
        "fileobj.write(\"Mallika\")\n",
        "fileobj.close()\n"
      ],
      "metadata": {
        "id": "oSvdqWe-gA3C"
      },
      "execution_count": null,
      "outputs": []
    },
    {
      "cell_type": "code",
      "source": [
        "# file object # access mode\n",
        "fileobj = open(\"regex.txt\", \"r+\")\n",
        "result=fileobj.read()\n",
        "fileobj.write(\"ayushi\")\n",
        "fileobj.close()\n",
        "print(result)\n"
      ],
      "metadata": {
        "colab": {
          "base_uri": "https://localhost:8080/"
        },
        "id": "X-lMz-w_gmI3",
        "outputId": "f1c1fe70-7e96-429c-d80c-1cc8393cee6c"
      },
      "execution_count": null,
      "outputs": [
        {
          "output_type": "stream",
          "name": "stdout",
          "text": [
            "MallikaMallika\n"
          ]
        }
      ]
    },
    {
      "cell_type": "code",
      "source": [
        "fileobj = open(\"regex.txt\", \"r+\")\n",
        "fileobj.write(\"$$$\")\n",
        "result=fileobj.read()\n",
        "fileobj.close()\n",
        "print(result)\n"
      ],
      "metadata": {
        "colab": {
          "base_uri": "https://localhost:8080/"
        },
        "id": "kX26hdy2hVXo",
        "outputId": "3128b604-ecf9-49e1-c817-c00f15ddfad7"
      },
      "execution_count": null,
      "outputs": [
        {
          "output_type": "stream",
          "name": "stdout",
          "text": [
            "likaMallikaayushi\n"
          ]
        }
      ]
    },
    {
      "cell_type": "code",
      "source": [
        "fileobj = open(\"regex.txt\", \"w+\") # w+ removes all the old content\n",
        "fileobj.write(\"$$$\")\n",
        "result=fileobj.read()\n",
        "fileobj.close()\n",
        "print(result)\n"
      ],
      "metadata": {
        "colab": {
          "base_uri": "https://localhost:8080/"
        },
        "id": "Tb2Np8kfh9HZ",
        "outputId": "7daf0e18-9264-42f0-9ac9-1d5c33598e16"
      },
      "execution_count": null,
      "outputs": [
        {
          "output_type": "stream",
          "name": "stdout",
          "text": [
            "\n"
          ]
        }
      ]
    },
    {
      "cell_type": "code",
      "source": [
        "fileobj = open(\"regex.txt\", \"r+\")\n",
        "print(\"cursor 1:\", fileobj.tell() )\n",
        "fileobj.write(\"hello\")\n",
        "print(\"cursor 2:\", fileobj.tell() )\n",
        "result=fileobj.read()\n",
        "fileobj.close()\n",
        "print(result)\n"
      ],
      "metadata": {
        "colab": {
          "base_uri": "https://localhost:8080/"
        },
        "id": "SrdyzL8EiT7J",
        "outputId": "fb062fb1-1e72-42d8-9032-f2ba235f0526"
      },
      "execution_count": null,
      "outputs": [
        {
          "output_type": "stream",
          "name": "stdout",
          "text": [
            "cursor 1: 0\n",
            "cursor 2: 5\n",
            "\n"
          ]
        }
      ]
    },
    {
      "cell_type": "code",
      "source": [
        "fileobj = open(\"regex.txt\", \"r+\")\n",
        "print(\"cursor 1:\", fileobj.tell() ) # tell gives the cursor position\n",
        "fileobj.write(\"###\")\n",
        "fileobj.seek(1)                     # seek allows us to change the cursor position\n",
        "print(\"cursor 2:\", fileobj.tell() )\n",
        "result=fileobj.read()\n",
        "print(\"cursor 3:\", fileobj.tell() )\n",
        "fileobj.close()\n",
        "print(result)"
      ],
      "metadata": {
        "colab": {
          "base_uri": "https://localhost:8080/"
        },
        "id": "9h8727KMjLUa",
        "outputId": "6bdb20d1-f7a1-4936-eb62-bed00b52ceed"
      },
      "execution_count": null,
      "outputs": [
        {
          "output_type": "stream",
          "name": "stdout",
          "text": [
            "cursor 1: 0\n",
            "cursor 2: 1\n",
            "cursor 3: 12\n",
            "##lo jaipur\n"
          ]
        }
      ]
    },
    {
      "cell_type": "code",
      "source": [
        "#with keyword\n",
        "# don't need to close the file\n",
        "#fileobj = open(\"regex.txt\", \"r+\")\n",
        "with open(\"regex.txt\", \"r+\") as fileobj:\n",
        "    x = fileobj.read()\n",
        "    print(x)\n"
      ],
      "metadata": {
        "colab": {
          "base_uri": "https://localhost:8080/"
        },
        "id": "rHyCNj6YkLLU",
        "outputId": "c773fb7b-ab40-4895-cd65-3db13bf379fe"
      },
      "execution_count": null,
      "outputs": [
        {
          "output_type": "stream",
          "name": "stdout",
          "text": [
            "###lo jaipur\n"
          ]
        }
      ]
    },
    {
      "cell_type": "code",
      "source": [
        "with open(\"regex.txt\", \"r+\") as fileobj:\n",
        "    x = fileobj.read(4)\n",
        "    print(x)\n"
      ],
      "metadata": {
        "colab": {
          "base_uri": "https://localhost:8080/"
        },
        "id": "07Ggd1RyksPP",
        "outputId": "b7d3941d-079f-4200-fd6a-d44e9499aa2b"
      },
      "execution_count": null,
      "outputs": [
        {
          "output_type": "stream",
          "name": "stdout",
          "text": [
            "hell\n"
          ]
        }
      ]
    },
    {
      "cell_type": "code",
      "source": [
        "#readline method\n",
        "with open(\"regex.txt\", \"r+\") as fileobj:\n",
        "   print(fileobj.readline())\n",
        "   print(fileobj.readline())"
      ],
      "metadata": {
        "colab": {
          "base_uri": "https://localhost:8080/"
        },
        "id": "r5tOmv65lEbx",
        "outputId": "0fefb881-519f-489a-a954-446a849401ed"
      },
      "execution_count": null,
      "outputs": [
        {
          "output_type": "stream",
          "name": "stdout",
          "text": [
            "hello jaipur\n",
            "\n",
            "hello mallika\n",
            "\n"
          ]
        }
      ]
    },
    {
      "cell_type": "code",
      "source": [
        "with open(\"regex.txt\", \"r+\") as fileobj:\n",
        "   print(fileobj.readlines())\n"
      ],
      "metadata": {
        "colab": {
          "base_uri": "https://localhost:8080/"
        },
        "id": "nius4VNDlWkT",
        "outputId": "ce01043e-09a2-4ac8-c587-da7bca174b58"
      },
      "execution_count": null,
      "outputs": [
        {
          "output_type": "stream",
          "name": "stdout",
          "text": [
            "['hello jaipur\\n', 'hello mallika\\n', 'hello kanak']\n"
          ]
        }
      ]
    },
    {
      "cell_type": "code",
      "source": [
        "#ASSINGMENT:\n",
        "#Exception handling\n",
        "#List comphrehension, dict comphrehension\n",
        "#hackerrank"
      ],
      "metadata": {
        "id": "7rG7gz5Wlb_8"
      },
      "execution_count": null,
      "outputs": []
    }
  ]
}