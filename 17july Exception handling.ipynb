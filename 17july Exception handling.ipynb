{
  "nbformat": 4,
  "nbformat_minor": 0,
  "metadata": {
    "colab": {
      "provenance": []
    },
    "kernelspec": {
      "name": "python3",
      "display_name": "Python 3"
    },
    "language_info": {
      "name": "python"
    }
  },
  "cells": [
    {
      "cell_type": "code",
      "execution_count": null,
      "metadata": {
        "id": "dFkVzoo4nmcu"
      },
      "outputs": [],
      "source": [
        "#exception handling => program can terminate due to some unwanted condition"
      ]
    },
    {
      "cell_type": "code",
      "source": [
        "x =10\n",
        "x+z\n",
        "print(\"hey\")"
      ],
      "metadata": {
        "colab": {
          "base_uri": "https://localhost:8080/",
          "height": 176
        },
        "id": "VKxwSzuwnr5y",
        "outputId": "e025db5a-3424-41a8-fc31-94d0defeeea0"
      },
      "execution_count": null,
      "outputs": [
        {
          "output_type": "error",
          "ename": "NameError",
          "evalue": "name 'z' is not defined",
          "traceback": [
            "\u001b[0;31m---------------------------------------------------------------------------\u001b[0m",
            "\u001b[0;31mNameError\u001b[0m                                 Traceback (most recent call last)",
            "\u001b[0;32m<ipython-input-3-039f298fc7bd>\u001b[0m in \u001b[0;36m<cell line: 2>\u001b[0;34m()\u001b[0m\n\u001b[1;32m      1\u001b[0m \u001b[0mx\u001b[0m \u001b[0;34m=\u001b[0m\u001b[0;36m10\u001b[0m\u001b[0;34m\u001b[0m\u001b[0;34m\u001b[0m\u001b[0m\n\u001b[0;32m----> 2\u001b[0;31m \u001b[0mx\u001b[0m\u001b[0;34m+\u001b[0m\u001b[0mz\u001b[0m\u001b[0;34m\u001b[0m\u001b[0;34m\u001b[0m\u001b[0m\n\u001b[0m\u001b[1;32m      3\u001b[0m \u001b[0mprint\u001b[0m\u001b[0;34m(\u001b[0m\u001b[0;34m\"hey\"\u001b[0m\u001b[0;34m)\u001b[0m\u001b[0;34m\u001b[0m\u001b[0;34m\u001b[0m\u001b[0m\n",
            "\u001b[0;31mNameError\u001b[0m: name 'z' is not defined"
          ]
        }
      ]
    },
    {
      "cell_type": "code",
      "source": [
        "#exception => two blocks:\n",
        "# try\n",
        "# except"
      ],
      "metadata": {
        "id": "UAQMp5F9n4_X"
      },
      "execution_count": null,
      "outputs": []
    },
    {
      "cell_type": "code",
      "source": [
        "try:\n",
        "    x =10\n",
        "    x+z\n",
        "    print(\"hey\")\n",
        "except:\n",
        "      print(\"error handled\")"
      ],
      "metadata": {
        "colab": {
          "base_uri": "https://localhost:8080/"
        },
        "id": "iV60z1mboHg7",
        "outputId": "84e2c642-4a6b-4e88-e8d1-240ad9b8ae04"
      },
      "execution_count": null,
      "outputs": [
        {
          "output_type": "stream",
          "name": "stdout",
          "text": [
            "error handled\n"
          ]
        }
      ]
    },
    {
      "cell_type": "code",
      "source": [
        "try:\n",
        "    x =10\n",
        "    x+10\n",
        "    print(\"hey\")\n",
        "except:\n",
        "      print(\"error handled\")"
      ],
      "metadata": {
        "colab": {
          "base_uri": "https://localhost:8080/"
        },
        "id": "9s40wfXSoXfh",
        "outputId": "0ed447d8-d59f-48cf-c937-7bf537f7306e"
      },
      "execution_count": null,
      "outputs": [
        {
          "output_type": "stream",
          "name": "stdout",
          "text": [
            "hey\n"
          ]
        }
      ]
    },
    {
      "cell_type": "code",
      "source": [
        "# Arthimetic error\n",
        "# name error\n",
        "# IO error\n",
        "# Identation error\n",
        "# Value error"
      ],
      "metadata": {
        "id": "FIDbUOH8oexr"
      },
      "execution_count": null,
      "outputs": []
    },
    {
      "cell_type": "code",
      "source": [
        "x/0\n",
        "#infinite"
      ],
      "metadata": {
        "colab": {
          "base_uri": "https://localhost:8080/",
          "height": 141
        },
        "id": "dYoGeNpzo0Ym",
        "outputId": "b773a00f-d444-4e17-9a74-a3fc70d4dbbb"
      },
      "execution_count": null,
      "outputs": [
        {
          "output_type": "error",
          "ename": "ZeroDivisionError",
          "evalue": "division by zero",
          "traceback": [
            "\u001b[0;31m---------------------------------------------------------------------------\u001b[0m",
            "\u001b[0;31mZeroDivisionError\u001b[0m                         Traceback (most recent call last)",
            "\u001b[0;32m<ipython-input-4-034eb0c6102b>\u001b[0m in \u001b[0;36m<cell line: 1>\u001b[0;34m()\u001b[0m\n\u001b[0;32m----> 1\u001b[0;31m \u001b[0mx\u001b[0m\u001b[0;34m/\u001b[0m\u001b[0;36m0\u001b[0m\u001b[0;34m\u001b[0m\u001b[0;34m\u001b[0m\u001b[0m\n\u001b[0m",
            "\u001b[0;31mZeroDivisionError\u001b[0m: division by zero"
          ]
        }
      ]
    },
    {
      "cell_type": "code",
      "source": [
        "try:\n",
        "    x =10\n",
        "    x/0\n",
        "    print(\"hey\")\n",
        "except NameError:    # Multiple Except block\n",
        "      print(\"error handled\")\n",
        "except ZeroDivisionError:\n",
        "      print(\"error handled as Zero\")"
      ],
      "metadata": {
        "colab": {
          "base_uri": "https://localhost:8080/"
        },
        "id": "i8BuCflDo4fu",
        "outputId": "1cc7bc78-3582-4469-a023-5306c0fc5c35"
      },
      "execution_count": null,
      "outputs": [
        {
          "output_type": "stream",
          "name": "stdout",
          "text": [
            "error handled as Zero\n"
          ]
        }
      ]
    },
    {
      "cell_type": "code",
      "source": [
        "try:\n",
        "    x =10\n",
        "    x/0\n",
        "    print(\"hey\")\n",
        "except (NameError,ZeroDivisionError):    # Multiple Except block\n",
        "      print(\"error handled\")"
      ],
      "metadata": {
        "colab": {
          "base_uri": "https://localhost:8080/"
        },
        "id": "t8FxGSwJpNAq",
        "outputId": "1dc3aded-a2f8-4bc0-d5a0-d03636bc8e35"
      },
      "execution_count": null,
      "outputs": [
        {
          "output_type": "stream",
          "name": "stdout",
          "text": [
            "error handled\n"
          ]
        }
      ]
    },
    {
      "cell_type": "code",
      "source": [
        "try:\n",
        "    x =10\n",
        "    x[0]\n",
        "    print(\"hey\")\n",
        "except (NameError,ZeroDivisionError):\n",
        "      print(\"error handled\")\n",
        "except Exception:\n",
        "       print(\"All other error\")     # Exception handles all type of error"
      ],
      "metadata": {
        "colab": {
          "base_uri": "https://localhost:8080/"
        },
        "id": "mxVr8uYEpl4q",
        "outputId": "45cd16d3-524a-4fa3-950c-6068c1af7a3c"
      },
      "execution_count": null,
      "outputs": [
        {
          "output_type": "stream",
          "name": "stdout",
          "text": [
            "All other error\n"
          ]
        }
      ]
    },
    {
      "cell_type": "code",
      "source": [
        "try:\n",
        "    x =10\n",
        "    try:\n",
        "       x/0\n",
        "    except:\n",
        "        print(\"error handled by Zero\")\n",
        "        print(\"hey\")\n",
        "except (NameError,ZeroDivisionError):\n",
        "      print(\"error handled\")\n",
        "except Exception:\n",
        "       print(\"All other error\")"
      ],
      "metadata": {
        "colab": {
          "base_uri": "https://localhost:8080/"
        },
        "id": "H3s39c-Lp_-g",
        "outputId": "d784694d-3b3d-4af3-c103-118a46bf533b"
      },
      "execution_count": null,
      "outputs": [
        {
          "output_type": "stream",
          "name": "stdout",
          "text": [
            "error handled by Zero\n",
            "hey\n"
          ]
        }
      ]
    },
    {
      "cell_type": "code",
      "source": [
        "try:\n",
        "    x =10\n",
        "    try:\n",
        "       x/0\n",
        "    except:\n",
        "        print(\"error handled by Zero\")\n",
        "        print(\"hey\")\n",
        "        x[0]\n",
        "except (NameError,ZeroDivisionError):\n",
        "      print(\"error handled\")\n",
        "except Exception:\n",
        "       print(\"All other error\")"
      ],
      "metadata": {
        "colab": {
          "base_uri": "https://localhost:8080/"
        },
        "id": "D0OlhFfTrCNq",
        "outputId": "5d6d426f-300f-4881-a195-c21e05115901"
      },
      "execution_count": null,
      "outputs": [
        {
          "output_type": "stream",
          "name": "stdout",
          "text": [
            "error handled by Zero\n",
            "hey\n",
            "All other error\n"
          ]
        }
      ]
    },
    {
      "cell_type": "code",
      "source": [
        "try:\n",
        "    x =10\n",
        "    x/y\n",
        "    print(\"hey\")\n",
        "except (NameError,ZeroDivisionError) as ex:\n",
        "      print(\"error handled\", ex)"
      ],
      "metadata": {
        "colab": {
          "base_uri": "https://localhost:8080/"
        },
        "id": "ap1RD-YVrROH",
        "outputId": "fb949032-5310-4e9e-bb41-ffaae8990def"
      },
      "execution_count": null,
      "outputs": [
        {
          "output_type": "stream",
          "name": "stdout",
          "text": [
            "error handled name 'y' is not defined\n"
          ]
        }
      ]
    },
    {
      "cell_type": "code",
      "source": [
        "try:\n",
        "    x =10\n",
        "    x/0\n",
        "    print(\"hey\")\n",
        "except (NameError,ZeroDivisionError) as ex:\n",
        "      print(\"error handled\", ex)"
      ],
      "metadata": {
        "colab": {
          "base_uri": "https://localhost:8080/"
        },
        "id": "M9dfFYZ8rnia",
        "outputId": "387e005c-9f26-4c94-ab64-c934278cc547"
      },
      "execution_count": null,
      "outputs": [
        {
          "output_type": "stream",
          "name": "stdout",
          "text": [
            "error handled division by zero\n"
          ]
        }
      ]
    },
    {
      "cell_type": "code",
      "source": [
        "try:\n",
        "    x =10\n",
        "    x/10\n",
        "    print(\"hey\")\n",
        "except (NameError,ZeroDivisionError) as ex:\n",
        "      print(\"error handled\", ex)\n",
        "else:\n",
        "    print(\"Else block executed\")"
      ],
      "metadata": {
        "colab": {
          "base_uri": "https://localhost:8080/"
        },
        "id": "KAZV1Le6rtbR",
        "outputId": "a47164f6-3d30-4a6b-dc44-4fc128f8a8b1"
      },
      "execution_count": null,
      "outputs": [
        {
          "output_type": "stream",
          "name": "stdout",
          "text": [
            "hey\n",
            "Else block executed\n"
          ]
        }
      ]
    },
    {
      "cell_type": "code",
      "source": [
        "try:\n",
        "    x =10\n",
        "    x/0\n",
        "    print(\"hey\")\n",
        "except (NameError,ZeroDivisionError) as ex:\n",
        "      print(\"error handled\", ex)\n",
        "else:\n",
        "    print(\"Else block executed\")"
      ],
      "metadata": {
        "colab": {
          "base_uri": "https://localhost:8080/"
        },
        "id": "T8JkSfs_r74h",
        "outputId": "99527e2c-d38c-4c9f-c05a-4f882608c5c8"
      },
      "execution_count": null,
      "outputs": [
        {
          "output_type": "stream",
          "name": "stdout",
          "text": [
            "error handled division by zero\n"
          ]
        }
      ]
    },
    {
      "cell_type": "code",
      "source": [
        "try:\n",
        "    x =10\n",
        "    x/0\n",
        "    print(\"hey\")\n",
        "except (NameError,ZeroDivisionError) as ex:\n",
        "      print(\"error handled\", ex)\n",
        "finally:\n",
        "    print(\"finally block executed\")"
      ],
      "metadata": {
        "colab": {
          "base_uri": "https://localhost:8080/"
        },
        "id": "4Y_lvnzrr_dZ",
        "outputId": "cd79982b-63e4-44a1-e463-ec9ab62c3f80"
      },
      "execution_count": null,
      "outputs": [
        {
          "output_type": "stream",
          "name": "stdout",
          "text": [
            "error handled division by zero\n",
            "finally block executed\n"
          ]
        }
      ]
    },
    {
      "cell_type": "code",
      "source": [
        "#print cummalitive sum of a list\n",
        "#[10, 15, 20, 30, 40]\n",
        "#output [10, 25, 45, 75, 115]\n",
        "list = [10, 15, 20, 30, 40]\n",
        "cummalitive_sum = []\n",
        "sum = 0\n",
        "for i in list:\n",
        "    sum = sum + i\n",
        "    cummalitive_sum.append(sum)\n",
        "print(cummalitive_sum)\n"
      ],
      "metadata": {
        "colab": {
          "base_uri": "https://localhost:8080/"
        },
        "id": "RJhHZHl5sI7P",
        "outputId": "d4919f33-5d33-4b7c-95f7-2714271768d8"
      },
      "execution_count": null,
      "outputs": [
        {
          "output_type": "stream",
          "name": "stdout",
          "text": [
            "[10, 25, 45, 75, 115]\n"
          ]
        }
      ]
    },
    {
      "cell_type": "code",
      "source": [
        "def deposite(days):\n",
        "    total_deposite = 0\n",
        "    amount = 0\n",
        "#week1 = [1, 2, 3, 4, 5, 6, 7]\n",
        "#week2 = [2, 3, 4, 5, 6, 7, 8]\n",
        "    for day in range(1, days +1):\n",
        "        week_day = (day - 1)%7 + 1\n",
        "        if week_day == 1:\n",
        "           amount += 1\n",
        "        deposite = amount + (week_day - 1)\n",
        "        total_deposite += deposite\n",
        "    return(total_deposite)\n",
        "days = 34\n",
        "total_deposite = deposite(days)\n",
        "print(\"total amount till day\", days, \":\", total_deposite)"
      ],
      "metadata": {
        "colab": {
          "base_uri": "https://localhost:8080/"
        },
        "id": "Vwakr13ZjdIW",
        "outputId": "031eb36e-743e-4032-b636-e35e833e5495"
      },
      "execution_count": 15,
      "outputs": [
        {
          "output_type": "stream",
          "name": "stdout",
          "text": [
            "total amount till day 34 : 199\n"
          ]
        }
      ]
    }
  ]
}