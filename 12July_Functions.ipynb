{
  "nbformat": 4,
  "nbformat_minor": 0,
  "metadata": {
    "colab": {
      "provenance": []
    },
    "kernelspec": {
      "name": "python3",
      "display_name": "Python 3"
    },
    "language_info": {
      "name": "python"
    }
  },
  "cells": [
    {
      "cell_type": "code",
      "execution_count": null,
      "metadata": {
        "colab": {
          "base_uri": "https://localhost:8080/"
        },
        "id": "CRsJySoQzmIa",
        "outputId": "d5f9d85b-3ca9-4154-caa3-7782081266ba"
      },
      "outputs": [
        {
          "output_type": "stream",
          "name": "stdout",
          "text": [
            "{99, 'hey', 10, 30}\n"
          ]
        }
      ],
      "source": [
        "myset={10,20,30,\"hey\", 10,10,10,99}\n",
        "myset.remove(20)\n",
        "print(myset)"
      ]
    },
    {
      "cell_type": "code",
      "source": [
        "myset={10,20,30,\"hey\",10,10, 10,99}\n",
        "myset.discard(20)\n",
        "print(myset)"
      ],
      "metadata": {
        "colab": {
          "base_uri": "https://localhost:8080/"
        },
        "id": "yeNevCzv0RlR",
        "outputId": "6e9069ee-64b2-4020-b1a7-e1769ec7d317"
      },
      "execution_count": null,
      "outputs": [
        {
          "output_type": "stream",
          "name": "stdout",
          "text": [
            "{99, 'hey', 10, 30}\n"
          ]
        }
      ]
    },
    {
      "cell_type": "code",
      "source": [
        "myset={10,20,30,\"hey\",10,10, 10,99}\n",
        "mysetb={20,10,12,14}\n",
        "myset.union(mysetb)"
      ],
      "metadata": {
        "colab": {
          "base_uri": "https://localhost:8080/"
        },
        "id": "KactXBYg0lhC",
        "outputId": "df27e530-90f7-428a-eba9-b3f06d6d1c33"
      },
      "execution_count": null,
      "outputs": [
        {
          "output_type": "execute_result",
          "data": {
            "text/plain": [
              "{10, 12, 14, 20, 30, 99, 'hey'}"
            ]
          },
          "metadata": {},
          "execution_count": 3
        }
      ]
    },
    {
      "cell_type": "code",
      "source": [
        "#function\n",
        "#block of code = task / functionality\n",
        "for i in range(0,4):\n",
        "  print(\"\")"
      ],
      "metadata": {
        "id": "BUE7-4tT035i"
      },
      "execution_count": null,
      "outputs": []
    },
    {
      "cell_type": "code",
      "source": [
        "''''void main(){\n",
        "    statment\n",
        "}'''\n",
        "#parameter => x\n",
        "def msg(x):\n",
        "  print(\"hello\",x)"
      ],
      "metadata": {
        "id": "8WjzEd0X1gHo"
      },
      "execution_count": null,
      "outputs": []
    },
    {
      "cell_type": "code",
      "source": [
        "#value => argument\n",
        "msg(\"Mallika\")\n",
        "msg(\"Ayushi\")"
      ],
      "metadata": {
        "colab": {
          "base_uri": "https://localhost:8080/"
        },
        "id": "6oWTRNbP19qL",
        "outputId": "854db98e-ab4e-4166-bc15-c18b14f64395"
      },
      "execution_count": null,
      "outputs": [
        {
          "output_type": "stream",
          "name": "stdout",
          "text": [
            "hello Mallika\n",
            "hello Ayushi\n"
          ]
        }
      ]
    },
    {
      "cell_type": "code",
      "source": [
        "def sum(x,y):\n",
        "  print(x+y)\n",
        "sum(10,20)\n",
        "sum(15,55)"
      ],
      "metadata": {
        "colab": {
          "base_uri": "https://localhost:8080/"
        },
        "id": "VhHLPfd63o15",
        "outputId": "5df62f2e-47b1-4c43-a8eb-d6f161180ef3"
      },
      "execution_count": null,
      "outputs": [
        {
          "output_type": "stream",
          "name": "stdout",
          "text": [
            "30\n",
            "70\n"
          ]
        }
      ]
    },
    {
      "cell_type": "code",
      "source": [
        "def func(x1):\n",
        "  print(\"x1 :\",x1)\n",
        "\n",
        "#outside function => global variable\n",
        "x2=1009 #variable\n",
        "func(x2)"
      ],
      "metadata": {
        "colab": {
          "base_uri": "https://localhost:8080/"
        },
        "id": "C_HEuDDU34tC",
        "outputId": "42d72543-bda1-4b42-8d2a-376085df160c"
      },
      "execution_count": null,
      "outputs": [
        {
          "output_type": "stream",
          "name": "stdout",
          "text": [
            "x1 : 1009\n"
          ]
        }
      ]
    },
    {
      "cell_type": "code",
      "source": [
        "def func(x2):\n",
        "   x2=1300\n",
        "   print(\"x1 :\",x2) # x2 now local variable\n",
        "\n",
        "#outside function => global variable\n",
        "x2=1009\n",
        "func(x2)\n"
      ],
      "metadata": {
        "colab": {
          "base_uri": "https://localhost:8080/"
        },
        "id": "8H8QRaQ140c7",
        "outputId": "adb538f8-a6d4-4ec5-8f29-16441de059b9"
      },
      "execution_count": null,
      "outputs": [
        {
          "output_type": "stream",
          "name": "stdout",
          "text": [
            "x1 : 1300\n"
          ]
        }
      ]
    },
    {
      "cell_type": "code",
      "source": [
        "def func(x2):\n",
        "   x2=1300\n",
        "   print(\"Inside function x2 :\",x2) # x2 now local variable\n",
        "\n",
        "#outside function => global variable\n",
        "x2=1009\n",
        "func(x2)\n",
        "print(\"Outside : \", x2)"
      ],
      "metadata": {
        "colab": {
          "base_uri": "https://localhost:8080/"
        },
        "id": "LBRs3II56TFh",
        "outputId": "b3e0b102-b815-49e1-a425-9fef94b9927e"
      },
      "execution_count": null,
      "outputs": [
        {
          "output_type": "stream",
          "name": "stdout",
          "text": [
            "Inside function x2 : 1300\n",
            "Outside :  1009\n"
          ]
        }
      ]
    },
    {
      "cell_type": "code",
      "source": [
        "def fun(x):\n",
        "    print(\"Inside\", x, id(x))\n",
        "\n",
        "\n",
        "x1 = 100\n",
        "print(\"Outside\", x1, id(x1))\n",
        "fun(x1)"
      ],
      "metadata": {
        "colab": {
          "base_uri": "https://localhost:8080/"
        },
        "id": "ta8qwtwi6xIr",
        "outputId": "0981eaf1-5b91-4bea-e383-a6639965ad69"
      },
      "execution_count": null,
      "outputs": [
        {
          "output_type": "stream",
          "name": "stdout",
          "text": [
            "Outside 100 136983035055440\n",
            "Inside 100 136983035055440\n"
          ]
        }
      ]
    },
    {
      "cell_type": "code",
      "source": [
        "def fun(x):\n",
        "\n",
        "    print(\"Inside\", x, id(x))\n",
        "    x=20\n",
        "    print(\" Change Inside\", x, id(x))\n",
        "\n",
        "x1 = 100\n",
        "print(\"Outside\", x1, id(x1))\n",
        "fun(x1)"
      ],
      "metadata": {
        "colab": {
          "base_uri": "https://localhost:8080/"
        },
        "id": "oEfePTBA7iIc",
        "outputId": "9d3be2b3-f3ee-4f6b-fc27-b61b81f6cf67"
      },
      "execution_count": null,
      "outputs": [
        {
          "output_type": "stream",
          "name": "stdout",
          "text": [
            "Outside 100 136983035055440\n",
            "Inside 100 136983035055440\n",
            " Change Inside 20 136983035052880\n"
          ]
        }
      ]
    },
    {
      "cell_type": "code",
      "source": [
        "def employee(eid, ename):\n",
        "    print(f\"Eid: {eid} Ename: {ename}\")\n",
        "#Required Argument\n",
        "employee(3,\"Mallika\")"
      ],
      "metadata": {
        "colab": {
          "base_uri": "https://localhost:8080/"
        },
        "id": "QAgcxSVx75TA",
        "outputId": "c70918f7-d938-4bc6-913b-1c988c5ebd7d"
      },
      "execution_count": null,
      "outputs": [
        {
          "output_type": "stream",
          "name": "stdout",
          "text": [
            "Eid: 3 Ename: Mallika\n"
          ]
        }
      ]
    },
    {
      "cell_type": "code",
      "source": [
        "def employee(eid, ename):\n",
        "    print(f\"Eid: {eid} Ename: {ename}\")\n",
        "#Position Argument\n",
        "employee(\"Mallika\",3)"
      ],
      "metadata": {
        "colab": {
          "base_uri": "https://localhost:8080/"
        },
        "id": "4uRYZm5-8WiI",
        "outputId": "ecf7d2a5-6fc7-4454-d651-c612454a5559"
      },
      "execution_count": null,
      "outputs": [
        {
          "output_type": "stream",
          "name": "stdout",
          "text": [
            "Eid: Mallika Ename: 3\n"
          ]
        }
      ]
    },
    {
      "cell_type": "code",
      "source": [
        "def employee(eid, ename):\n",
        "    print(f\"Eid: {eid} Ename: {ename}\")\n",
        "#keyword Argument\n",
        "employee(ename=\"Mallika\",eid=3)"
      ],
      "metadata": {
        "colab": {
          "base_uri": "https://localhost:8080/"
        },
        "id": "K4olopMG9B0P",
        "outputId": "38354f07-e5f3-4dcb-bfbf-f6d355f0670f"
      },
      "execution_count": null,
      "outputs": [
        {
          "output_type": "stream",
          "name": "stdout",
          "text": [
            "Eid: 3 Ename: Mallika\n"
          ]
        }
      ]
    },
    {
      "cell_type": "code",
      "source": [
        "#Variable Length Argument\n",
        "def employee(*detail):\n",
        "    print(detail)\n",
        "\n",
        "employee(10,20,30,40)\n",
        "employee()"
      ],
      "metadata": {
        "colab": {
          "base_uri": "https://localhost:8080/"
        },
        "id": "VJR9vpyv9RI5",
        "outputId": "ab698fcd-e31e-4ad4-a2e2-f57119aef816"
      },
      "execution_count": null,
      "outputs": [
        {
          "output_type": "stream",
          "name": "stdout",
          "text": [
            "(10, 20, 30, 40)\n",
            "()\n"
          ]
        }
      ]
    },
    {
      "cell_type": "code",
      "source": [
        "#Variable Length Argument\n",
        "def employee(*detail):\n",
        "    print(detail, type(detail))\n",
        "\n",
        "employee(10,20,30,40)\n",
        "employee()"
      ],
      "metadata": {
        "colab": {
          "base_uri": "https://localhost:8080/"
        },
        "id": "aAR6byyc-L0Q",
        "outputId": "c62e160d-6bb0-40a9-c2b9-b1c43c86ca68"
      },
      "execution_count": null,
      "outputs": [
        {
          "output_type": "stream",
          "name": "stdout",
          "text": [
            "(10, 20, 30, 40) <class 'tuple'>\n",
            "() <class 'tuple'>\n"
          ]
        }
      ]
    },
    {
      "cell_type": "code",
      "source": [
        "#Lambda function\n",
        "#anonymous function\n",
        "def square(x):\n",
        "     print(x*x)"
      ],
      "metadata": {
        "id": "49tfYnYL-SS0"
      },
      "execution_count": null,
      "outputs": []
    },
    {
      "cell_type": "code",
      "source": [
        "#Lambda parameter : expression\n",
        "regex = lambda x: x*x\n",
        "regex(20)"
      ],
      "metadata": {
        "colab": {
          "base_uri": "https://localhost:8080/"
        },
        "id": "KfMiKaze-86I",
        "outputId": "8949cb87-7285-428b-9de0-6c5b82202dde"
      },
      "execution_count": null,
      "outputs": [
        {
          "output_type": "execute_result",
          "data": {
            "text/plain": [
              "400"
            ]
          },
          "metadata": {},
          "execution_count": 38
        }
      ]
    },
    {
      "cell_type": "code",
      "source": [
        "#map, filter\n",
        "def square(x):\n",
        "  return x*x\n",
        "square(9)"
      ],
      "metadata": {
        "colab": {
          "base_uri": "https://localhost:8080/"
        },
        "id": "bYFNKZsh_bbN",
        "outputId": "336f87dd-e94b-47c2-962d-3142a0d5445b"
      },
      "execution_count": null,
      "outputs": [
        {
          "output_type": "execute_result",
          "data": {
            "text/plain": [
              "81"
            ]
          },
          "metadata": {},
          "execution_count": 39
        }
      ]
    },
    {
      "cell_type": "code",
      "source": [
        "def square(x):\n",
        "  return x*x\n",
        "mylist=[1,2,3,4,5,6,7,8,9]\n",
        "list(map(square, mylist))"
      ],
      "metadata": {
        "colab": {
          "base_uri": "https://localhost:8080/"
        },
        "id": "XDOWV1ln_4lx",
        "outputId": "68599c7d-d3dc-49ab-9a33-a6d9fe3f8ed3"
      },
      "execution_count": null,
      "outputs": [
        {
          "output_type": "execute_result",
          "data": {
            "text/plain": [
              "[1, 4, 9, 16, 25, 36, 49, 64, 81]"
            ]
          },
          "metadata": {},
          "execution_count": 40
        }
      ]
    },
    {
      "cell_type": "code",
      "source": [
        "def square(x):\n",
        "  return x*x\n",
        "mylist=[\"hey\", \"hello\", \"mallika\"]\n",
        "list(map(len, mylist))"
      ],
      "metadata": {
        "colab": {
          "base_uri": "https://localhost:8080/"
        },
        "id": "TdkiZBDNAH61",
        "outputId": "78fa302e-1d15-43d8-a236-11c32eadc194"
      },
      "execution_count": null,
      "outputs": [
        {
          "output_type": "execute_result",
          "data": {
            "text/plain": [
              "[3, 5, 7]"
            ]
          },
          "metadata": {},
          "execution_count": 41
        }
      ]
    },
    {
      "cell_type": "code",
      "source": [
        "def square(x):\n",
        "  return x*x\n",
        "mylist=[1,2,3,4,5]\n",
        "list(map(add, mylist))"
      ],
      "metadata": {
        "colab": {
          "base_uri": "https://localhost:8080/",
          "height": 176
        },
        "id": "80Gu-J1DAjDw",
        "outputId": "de09a921-256c-490b-8016-8f290a605ec2"
      },
      "execution_count": null,
      "outputs": [
        {
          "output_type": "error",
          "ename": "NameError",
          "evalue": "name 'add' is not defined",
          "traceback": [
            "\u001b[0;31m---------------------------------------------------------------------------\u001b[0m",
            "\u001b[0;31mNameError\u001b[0m                                 Traceback (most recent call last)",
            "\u001b[0;32m<ipython-input-43-09db0c72aea1>\u001b[0m in \u001b[0;36m<cell line: 4>\u001b[0;34m()\u001b[0m\n\u001b[1;32m      2\u001b[0m   \u001b[0;32mreturn\u001b[0m \u001b[0mx\u001b[0m\u001b[0;34m*\u001b[0m\u001b[0mx\u001b[0m\u001b[0;34m\u001b[0m\u001b[0;34m\u001b[0m\u001b[0m\n\u001b[1;32m      3\u001b[0m \u001b[0mmylist\u001b[0m\u001b[0;34m=\u001b[0m\u001b[0;34m[\u001b[0m\u001b[0;36m1\u001b[0m\u001b[0;34m,\u001b[0m\u001b[0;36m2\u001b[0m\u001b[0;34m,\u001b[0m\u001b[0;36m3\u001b[0m\u001b[0;34m,\u001b[0m\u001b[0;36m4\u001b[0m\u001b[0;34m,\u001b[0m\u001b[0;36m5\u001b[0m\u001b[0;34m]\u001b[0m\u001b[0;34m\u001b[0m\u001b[0;34m\u001b[0m\u001b[0m\n\u001b[0;32m----> 4\u001b[0;31m \u001b[0mlist\u001b[0m\u001b[0;34m(\u001b[0m\u001b[0mmap\u001b[0m\u001b[0;34m(\u001b[0m\u001b[0madd\u001b[0m\u001b[0;34m,\u001b[0m \u001b[0mmylist\u001b[0m\u001b[0;34m)\u001b[0m\u001b[0;34m)\u001b[0m\u001b[0;34m\u001b[0m\u001b[0;34m\u001b[0m\u001b[0m\n\u001b[0m",
            "\u001b[0;31mNameError\u001b[0m: name 'add' is not defined"
          ]
        }
      ]
    },
    {
      "cell_type": "code",
      "source": [
        "list(map(lambda x: x*x, mylist))"
      ],
      "metadata": {
        "colab": {
          "base_uri": "https://localhost:8080/"
        },
        "id": "AuHApcmQBEGC",
        "outputId": "592d6dc7-c469-45ce-cced-d9d9b316854a"
      },
      "execution_count": null,
      "outputs": [
        {
          "output_type": "execute_result",
          "data": {
            "text/plain": [
              "[1, 4, 9, 16, 25]"
            ]
          },
          "metadata": {},
          "execution_count": 44
        }
      ]
    },
    {
      "cell_type": "code",
      "source": [
        "list(map(lambda x: x+x, mylist))"
      ],
      "metadata": {
        "colab": {
          "base_uri": "https://localhost:8080/"
        },
        "id": "tQlu3uBsBOwJ",
        "outputId": "c1e14449-d771-463e-cde0-e8a1f3269640"
      },
      "execution_count": null,
      "outputs": [
        {
          "output_type": "execute_result",
          "data": {
            "text/plain": [
              "[2, 4, 6, 8, 10]"
            ]
          },
          "metadata": {},
          "execution_count": 45
        }
      ]
    },
    {
      "cell_type": "code",
      "source": [
        "#Assingment:\n",
        "#1\n",
        "x = 21\n",
        "y = 15\n",
        "x = x + y\n",
        "y = x - y\n",
        "x = x - y\n",
        "print(\"swapped x and y are:\" , x,y)\n"
      ],
      "metadata": {
        "id": "xmJldM91BZ8V",
        "colab": {
          "base_uri": "https://localhost:8080/"
        },
        "outputId": "904762ce-3881-4c99-ed48-a43d36fbe241"
      },
      "execution_count": null,
      "outputs": [
        {
          "output_type": "stream",
          "name": "stdout",
          "text": [
            "swapped x and y are: 15 21\n"
          ]
        }
      ]
    },
    {
      "cell_type": "code",
      "source": [
        "#2\n",
        "def rev_num(num):\n",
        "    num_str = str(num)  #converts num into string\n",
        "    reversed_num = num_str[::-1]  #slicing\n",
        "    print(\"reversed digits: \", \" \".join(reversed_num))  #join function for linking\n",
        "num = int(input(\"Enter a integer: \"))\n",
        "rev_num(num)\n"
      ],
      "metadata": {
        "colab": {
          "base_uri": "https://localhost:8080/"
        },
        "id": "74hXwcQzEPr2",
        "outputId": "317fc7fa-9f10-440e-de15-535fda30b507"
      },
      "execution_count": null,
      "outputs": [
        {
          "output_type": "stream",
          "name": "stdout",
          "text": [
            "Enter a integer: 1948\n",
            "reversed digits:  8 4 9 1\n"
          ]
        }
      ]
    },
    {
      "cell_type": "code",
      "source": [
        "#3\n",
        "def sum():\n",
        "    x = int(input(\"Enter first digit: \"))\n",
        "    y = int(input(\"Enter second digit: \"))\n",
        "    z = int(input(\"Enter third digit: \"))\n",
        "    sum = x + y +z\n",
        "    print(\"Sum of digits: \", sum)\n",
        "sum()"
      ],
      "metadata": {
        "colab": {
          "base_uri": "https://localhost:8080/"
        },
        "id": "6HlHSbIcZmEn",
        "outputId": "e15c5381-a6b3-4e80-e64d-9d2c8497774b"
      },
      "execution_count": null,
      "outputs": [
        {
          "output_type": "stream",
          "name": "stdout",
          "text": [
            "Enter first digit: 1234\n",
            "Enter second digit: 5678\n",
            "Enter third digit: 9101112\n",
            "Sum of digits:  9108024\n"
          ]
        }
      ]
    },
    {
      "cell_type": "code",
      "source": [
        "#4\n",
        "def square():\n",
        "    x = int(input(\"Enter first digit: \"))\n",
        "    y = int(input(\"Enter second digit: \"))\n",
        "    z = int(input(\"Enter third digit: \"))\n",
        "    sum  = x*x + y*y + z*z\n",
        "    print(\"Sum of digits: \", sum)\n",
        "square()\n"
      ],
      "metadata": {
        "colab": {
          "base_uri": "https://localhost:8080/"
        },
        "id": "zMl3cXsCdRCn",
        "outputId": "2e4a7556-3865-456b-d584-04b1a2c99571"
      },
      "execution_count": null,
      "outputs": [
        {
          "output_type": "stream",
          "name": "stdout",
          "text": [
            "Enter first digit: 20\n",
            "Enter second digit: 50\n",
            "Enter third digit: 100\n",
            "Sum of digits:  12900\n"
          ]
        }
      ]
    },
    {
      "cell_type": "code",
      "source": [
        "#5\n",
        "def armstrong(number):\n",
        "    num_str = str(number)\n",
        "    num_digits = len(num_str)\n",
        "    sum = 0\n",
        "    for digit in num_str:\n",
        "        sum += int(digit) ** num_digits\n",
        "    return sum == number\n",
        "\n",
        "number = int(input(\"Enter a number: \"))\n",
        "if armstrong(number):\n",
        "    print(number, \"is an Armstrong number.\")\n",
        "else:\n",
        "    print(number, \"is not an Armstrong number.\")\n"
      ],
      "metadata": {
        "colab": {
          "base_uri": "https://localhost:8080/"
        },
        "id": "pmzk2suFeAkC",
        "outputId": "73c5e2aa-922f-487a-ae55-032c1792896c"
      },
      "execution_count": null,
      "outputs": [
        {
          "output_type": "stream",
          "name": "stdout",
          "text": [
            "Enter a number: 1234\n",
            "1234 is not an Armstrong number.\n"
          ]
        }
      ]
    },
    {
      "cell_type": "code",
      "source": [
        "#6\n",
        "def narcissist(num):\n",
        "    num_str = str(num)\n",
        "    num_digits = len(num_str)\n",
        "    sum = 0\n",
        "    for digit in num_str:\n",
        "        sum += int(digit) ** num_digits\n",
        "    return sum == num\n",
        "\n",
        "num = int(input(\"Enter a number: \"))\n",
        "if narcissist(num):\n",
        "    print(num, \"is a narcissistic number.\")\n",
        "else:\n",
        "    print(num, \"is not a narcissistic number.\")"
      ],
      "metadata": {
        "colab": {
          "base_uri": "https://localhost:8080/"
        },
        "id": "9rXTmO0PfKl1",
        "outputId": "e493d5b5-b3b9-4433-e644-8f9fa319a2bf"
      },
      "execution_count": null,
      "outputs": [
        {
          "output_type": "stream",
          "name": "stdout",
          "text": [
            "Enter a number: 1634\n",
            "1634 is a narcissistic number.\n"
          ]
        }
      ]
    },
    {
      "cell_type": "code",
      "source": [
        "#7\n",
        "float_number = 3.14159\n",
        "print(\"{:.2f}\".format(float_number))"
      ],
      "metadata": {
        "colab": {
          "base_uri": "https://localhost:8080/"
        },
        "id": "CXkxig_6jBtV",
        "outputId": "92f497e0-5dd1-4895-99c6-bf5a8de8188b"
      },
      "execution_count": null,
      "outputs": [
        {
          "output_type": "stream",
          "name": "stdout",
          "text": [
            "3.14\n"
          ]
        }
      ]
    },
    {
      "cell_type": "code",
      "source": [
        "#8\n",
        "def factors(num):\n",
        "    print(\"Factors of\", num, \"are:\")\n",
        "    for i in range(1, num + 1):\n",
        "        if num % i == 0:\n",
        "            print(i)\n",
        "num = int(input(\"Enter a number: \"))\n",
        "factors(num)"
      ],
      "metadata": {
        "colab": {
          "base_uri": "https://localhost:8080/"
        },
        "id": "7OaxNSZ6j7O8",
        "outputId": "7ea95c5a-12db-48ec-f418-46a51826abcb"
      },
      "execution_count": null,
      "outputs": [
        {
          "output_type": "stream",
          "name": "stdout",
          "text": [
            "Enter a number: 23\n",
            "Factors of 23 are:\n",
            "1\n",
            "23\n"
          ]
        }
      ]
    },
    {
      "cell_type": "code",
      "source": [
        "#9\n",
        "float_num = []\n",
        "for i in range(5):\n",
        "    number = float(input(f\"enter number {i+1}:\"))\n",
        "    float_num.append(number)\n",
        "    print(\"the list of float numbers is :\", float_num)"
      ],
      "metadata": {
        "colab": {
          "base_uri": "https://localhost:8080/"
        },
        "id": "oSsaVOt2kuE3",
        "outputId": "57b6f7a8-2874-4629-ead1-cf48202d2085"
      },
      "execution_count": 1,
      "outputs": [
        {
          "output_type": "stream",
          "name": "stdout",
          "text": [
            "enter number 1:2.1\n",
            "the list of float numbers is : [2.1]\n",
            "enter number 2:3.5\n",
            "the list of float numbers is : [2.1, 3.5]\n",
            "enter number 3:4.67\n",
            "the list of float numbers is : [2.1, 3.5, 4.67]\n",
            "enter number 4:5.8\n",
            "the list of float numbers is : [2.1, 3.5, 4.67, 5.8]\n",
            "enter number 5:9.66\n",
            "the list of float numbers is : [2.1, 3.5, 4.67, 5.8, 9.66]\n"
          ]
        }
      ]
    },
    {
      "cell_type": "code",
      "source": [
        "#10\n",
        "import math\n",
        "\n",
        "def volume(radius, height):\n",
        "    return math.pi * (radius ** 2) * height\n",
        "\n",
        "try:\n",
        "    radius_str = input(\"Enter the radius of the cylinder: \") # Get radius as string\n",
        "    height_str = input(\"Enter the height of the cylinder: \") # Get height as string\n",
        "\n",
        "    # Convert to float after getting input\n",
        "    radius = float(radius_str)\n",
        "    height = float(height_str)\n",
        "\n",
        "    volume_cm = volume(radius, height)\n",
        "    volume_liters = volume_cm * 1000\n",
        "    cost_per_liter = 40\n",
        "    total_cost = volume_liters * cost_per_liter\n",
        "\n",
        "    print(f\"Volume of the cylinder: {volume_liters:.2f} liters\")\n",
        "    print(f\"Total cost to fill the cylinder with milk: {total_cost:.2f} Rs.\")\n",
        "\n",
        "except ValueError:\n",
        "    print(\"Invalid input. Please enter numerical values for radius and height.\")"
      ],
      "metadata": {
        "colab": {
          "base_uri": "https://localhost:8080/"
        },
        "id": "hfTp7IDCz-ud",
        "outputId": "a9129cb9-382e-46f1-8532-535dcfd3b4e3"
      },
      "execution_count": 2,
      "outputs": [
        {
          "output_type": "stream",
          "name": "stdout",
          "text": [
            "Enter the radius of the cylinder: 4.0\n",
            "Enter the height of the cylinder: 6.0\n",
            "Volume of the cylinder: 301592.89 liters\n",
            "Total cost to fill the cylinder with milk: 12063715.79 Rs.\n"
          ]
        }
      ]
    }
  ]
}