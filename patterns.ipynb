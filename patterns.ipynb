{
  "nbformat": 4,
  "nbformat_minor": 0,
  "metadata": {
    "colab": {
      "provenance": []
    },
    "kernelspec": {
      "name": "python3",
      "display_name": "Python 3"
    },
    "language_info": {
      "name": "python"
    }
  },
  "cells": [
    {
      "cell_type": "code",
      "source": [
        "for i in range (5):\n",
        "    for j in range(5-i):\n",
        "         print(\"*\", end=\" \")\n",
        "    print(\"\")"
      ],
      "metadata": {
        "colab": {
          "base_uri": "https://localhost:8080/"
        },
        "id": "5en5rThenFkZ",
        "outputId": "392cdbb9-e8d9-418e-faa3-3a06aa3da20c"
      },
      "execution_count": null,
      "outputs": [
        {
          "output_type": "stream",
          "name": "stdout",
          "text": [
            "* * * * * \n",
            "* * * * \n",
            "* * * \n",
            "* * \n",
            "* \n"
          ]
        }
      ]
    },
    {
      "cell_type": "code",
      "source": [
        "for i in range (5):\n",
        "    for j in range(i+1):\n",
        "         print(\"*\", end=\" \")\n",
        "    print(\"\")"
      ],
      "metadata": {
        "colab": {
          "base_uri": "https://localhost:8080/"
        },
        "id": "0CycqS-twYKj",
        "outputId": "0db079c7-6ee2-4f8e-d8a2-370a282310a6"
      },
      "execution_count": null,
      "outputs": [
        {
          "output_type": "stream",
          "name": "stdout",
          "text": [
            "* \n",
            "* * \n",
            "* * * \n",
            "* * * * \n",
            "* * * * * \n"
          ]
        }
      ]
    },
    {
      "cell_type": "code",
      "source": [
        "for i in range (1,4):\n",
        "    for j in range(1,4):\n",
        "        print(\"*\", end=\" \")\n",
        "    print(\"\")"
      ],
      "metadata": {
        "colab": {
          "base_uri": "https://localhost:8080/"
        },
        "id": "IKRYosaZnFvF",
        "outputId": "e9062118-a3bd-4972-a8f3-80410931c2d7"
      },
      "execution_count": null,
      "outputs": [
        {
          "output_type": "stream",
          "name": "stdout",
          "text": [
            "* * * \n",
            "* * * \n",
            "* * * \n"
          ]
        }
      ]
    },
    {
      "cell_type": "code",
      "source": [
        "for i in range(0, 5):\n",
        "    for j in range(0, 5):\n",
        "        print(\"*\", end=\"\")\n",
        "    print()"
      ],
      "metadata": {
        "colab": {
          "base_uri": "https://localhost:8080/"
        },
        "id": "s8avN_sanF26",
        "outputId": "f14145b6-a5eb-4acf-b618-707d09964b81"
      },
      "execution_count": null,
      "outputs": [
        {
          "output_type": "stream",
          "name": "stdout",
          "text": [
            "*****\n",
            "*****\n",
            "*****\n",
            "*****\n",
            "*****\n"
          ]
        }
      ]
    },
    {
      "cell_type": "code",
      "source": [
        "for i in range (1,4):\n",
        "    for j in range(i,3):\n",
        "        print(\"*\", end=\" \")\n",
        "    print(\"\")"
      ],
      "metadata": {
        "colab": {
          "base_uri": "https://localhost:8080/"
        },
        "id": "pAmnrKMPnF5o",
        "outputId": "c68db01d-f197-434a-e4c3-5f9dfa4690a7"
      },
      "execution_count": null,
      "outputs": [
        {
          "output_type": "stream",
          "name": "stdout",
          "text": [
            "* * \n",
            "* \n",
            "\n"
          ]
        }
      ]
    },
    {
      "cell_type": "code",
      "source": [
        "for i in range (1,5):\n",
        "    for j in range(i,4):\n",
        "        print(\"&\", end=\" \")\n",
        "    for k in range(i):\n",
        "        print(\"*\", end=\" \")\n",
        "    print(\"\")"
      ],
      "metadata": {
        "colab": {
          "base_uri": "https://localhost:8080/"
        },
        "id": "JF_Ym9Q8tHjH",
        "outputId": "5fbe2146-4491-403b-894e-2dfe45f6e117"
      },
      "execution_count": null,
      "outputs": [
        {
          "output_type": "stream",
          "name": "stdout",
          "text": [
            "& & & * \n",
            "& & * * \n",
            "& * * * \n",
            "* * * * \n"
          ]
        }
      ]
    },
    {
      "cell_type": "code",
      "source": [
        "for i in range(1, 5):\n",
        "    for j in range(i,4):\n",
        "        print(\" \", end=\" \")\n",
        "    for k in range(1,i+1):\n",
        "        print(\"*\", end=\" \")\n",
        "    print(\"\")"
      ],
      "metadata": {
        "colab": {
          "base_uri": "https://localhost:8080/"
        },
        "id": "kkuf2W7xnGCG",
        "outputId": "4dbc18ec-7134-4e2f-a5a3-5cb30fb1c4d0"
      },
      "execution_count": null,
      "outputs": [
        {
          "output_type": "stream",
          "name": "stdout",
          "text": [
            "      * \n",
            "    * * \n",
            "  * * * \n",
            "* * * * \n"
          ]
        }
      ]
    },
    {
      "cell_type": "code",
      "source": [
        "for i in range(1, 5):\n",
        "    for j in range(1,i):\n",
        "        print(\" \", end=\" \")\n",
        "    for k in range(i,5):\n",
        "        print(\"*\", end=\" \")\n",
        "    print(\"\")"
      ],
      "metadata": {
        "colab": {
          "base_uri": "https://localhost:8080/"
        },
        "id": "rIsDK85SnDqX",
        "outputId": "a4bafcd1-5c96-4dec-9333-acb6e1f1c9b3"
      },
      "execution_count": null,
      "outputs": [
        {
          "output_type": "stream",
          "name": "stdout",
          "text": [
            "* * * * \n",
            "  * * * \n",
            "    * * \n",
            "      * \n"
          ]
        }
      ]
    },
    {
      "cell_type": "code",
      "source": [
        "for i in range (1,6):\n",
        "    for j in range(i,5):\n",
        "        print(\" \", end=\" \")\n",
        "    for k in range(1,2*i):\n",
        "        print(\"*\", end=\" \")\n",
        "    print(\"\")"
      ],
      "metadata": {
        "colab": {
          "base_uri": "https://localhost:8080/"
        },
        "id": "Je0lNQ_wxthm",
        "outputId": "6a2f5cbf-0d8b-479e-8b2d-425431dae689"
      },
      "execution_count": null,
      "outputs": [
        {
          "output_type": "stream",
          "name": "stdout",
          "text": [
            "        * \n",
            "      * * * \n",
            "    * * * * * \n",
            "  * * * * * * * \n",
            "* * * * * * * * * \n"
          ]
        }
      ]
    },
    {
      "cell_type": "code",
      "source": [
        "#List: Data structure\n",
        "#Collection of multiple element of multiple data type\n",
        "#mutable data type, index position\n",
        "#maintain order\n",
        "mylist=[]\n",
        "print(type(mylist))\n"
      ],
      "metadata": {
        "colab": {
          "base_uri": "https://localhost:8080/"
        },
        "id": "0EBYhCnf0y3T",
        "outputId": "3cdfc3ad-d065-4241-a668-60185f275cec"
      },
      "execution_count": null,
      "outputs": [
        {
          "output_type": "stream",
          "name": "stdout",
          "text": [
            "<class 'list'>\n"
          ]
        }
      ]
    },
    {
      "cell_type": "code",
      "source": [
        "mylist=[1,2,3,4,5, \"Mallika\"]\n",
        "print(mylist)"
      ],
      "metadata": {
        "colab": {
          "base_uri": "https://localhost:8080/"
        },
        "id": "OKd3S14d0zBw",
        "outputId": "2e3ef15a-1583-4464-a898-cee6378767b7"
      },
      "execution_count": null,
      "outputs": [
        {
          "output_type": "stream",
          "name": "stdout",
          "text": [
            "[1, 2, 3, 4, 5, 'Mallika']\n"
          ]
        }
      ]
    },
    {
      "cell_type": "code",
      "source": [
        "mylist=[1,2,3,\"Mallika\",5]\n",
        "print(type(mylist))"
      ],
      "metadata": {
        "colab": {
          "base_uri": "https://localhost:8080/"
        },
        "id": "yWpLDOnQ0zD_",
        "outputId": "708a6b5a-fa5a-451b-a582-6f7e392a80ea"
      },
      "execution_count": null,
      "outputs": [
        {
          "output_type": "stream",
          "name": "stdout",
          "text": [
            "<class 'list'>\n"
          ]
        }
      ]
    },
    {
      "cell_type": "code",
      "source": [
        "mylist=[1,2,3,4,5, \"Mallika\"]\n",
        "print(mylist[2])"
      ],
      "metadata": {
        "colab": {
          "base_uri": "https://localhost:8080/"
        },
        "id": "STYFGgFJ0zGq",
        "outputId": "35bc6fa7-6e52-4a1c-df4d-dfe05330e633"
      },
      "execution_count": null,
      "outputs": [
        {
          "output_type": "stream",
          "name": "stdout",
          "text": [
            "3\n"
          ]
        }
      ]
    },
    {
      "cell_type": "code",
      "source": [
        "mylist=[1,2,3,4,5, \"Mallika\"]\n",
        "print(mylist[-2])"
      ],
      "metadata": {
        "colab": {
          "base_uri": "https://localhost:8080/"
        },
        "id": "2FyOYhKX2uGT",
        "outputId": "6b315441-8aa3-4211-98a0-890e099c00c7"
      },
      "execution_count": null,
      "outputs": [
        {
          "output_type": "stream",
          "name": "stdout",
          "text": [
            "5\n"
          ]
        }
      ]
    },
    {
      "cell_type": "code",
      "source": [
        "#update(Mutable)\n",
        "mylist=[1,2,3,4,5, \"Mallika\"]\n",
        "mylist[0]=99\n",
        "print(mylist)"
      ],
      "metadata": {
        "colab": {
          "base_uri": "https://localhost:8080/"
        },
        "id": "Nh9Zrfrt2uac",
        "outputId": "590def3d-52d9-4597-8f7a-4887d39e2610"
      },
      "execution_count": null,
      "outputs": [
        {
          "output_type": "stream",
          "name": "stdout",
          "text": [
            "[99, 2, 3, 4, 5, 'Mallika']\n"
          ]
        }
      ]
    },
    {
      "cell_type": "code",
      "source": [
        "#update(Mutable), dost not include tuple\n",
        "mylist=[1,2,3,4,5, \"Mallika\"]\n",
        "mylist[0]=999\n",
        "mylist[5]=\"Ayushi\"\n",
        "print(mylist)"
      ],
      "metadata": {
        "colab": {
          "base_uri": "https://localhost:8080/"
        },
        "id": "t8jQZzOD0zQC",
        "outputId": "2e636bb6-300e-467c-d5b6-13af4a4ddb0e"
      },
      "execution_count": null,
      "outputs": [
        {
          "output_type": "stream",
          "name": "stdout",
          "text": [
            "[999, 2, 3, 4, 5, 'Ayushi']\n"
          ]
        }
      ]
    },
    {
      "cell_type": "code",
      "source": [
        "#insert(only one element at a time)\n",
        "mylist=[1,2,3,4,5, \"Mallika\"]\n",
        "mylist.append(88)\n",
        "print(mylist)"
      ],
      "metadata": {
        "colab": {
          "base_uri": "https://localhost:8080/"
        },
        "id": "vl9i_a1s3UvZ",
        "outputId": "4b1f0be9-7c83-49d5-fb23-754a5a08f2d5"
      },
      "execution_count": null,
      "outputs": [
        {
          "output_type": "stream",
          "name": "stdout",
          "text": [
            "[1, 2, 3, 4, 5, 'Mallika', 88]\n"
          ]
        }
      ]
    },
    {
      "cell_type": "code",
      "source": [
        "#extend\n",
        "mylist=[1,2,3,4,5, \"Mallika\"]\n",
        "mylist.extend([21,26,17])\n",
        "print(mylist)"
      ],
      "metadata": {
        "colab": {
          "base_uri": "https://localhost:8080/"
        },
        "id": "2ZqV-kAo3UyN",
        "outputId": "bd998e55-06b1-41be-ae4f-1e1eccbfbf85"
      },
      "execution_count": null,
      "outputs": [
        {
          "output_type": "stream",
          "name": "stdout",
          "text": [
            "[1, 2, 3, 4, 5, 'Mallika', 21, 26, 17]\n"
          ]
        }
      ]
    },
    {
      "cell_type": "code",
      "source": [
        "mylist=[1,2,3,4,5, \"Mallika\"]\n",
        "mylist.extend(\"Mallika\")\n",
        "print(mylist)"
      ],
      "metadata": {
        "colab": {
          "base_uri": "https://localhost:8080/"
        },
        "id": "aaPxLQyr3U03",
        "outputId": "07f75d6b-a700-4eb4-f008-b5eb051e13c1"
      },
      "execution_count": null,
      "outputs": [
        {
          "output_type": "stream",
          "name": "stdout",
          "text": [
            "[1, 2, 3, 4, 5, 'Mallika', 'M', 'a', 'l', 'l', 'i', 'k', 'a']\n"
          ]
        }
      ]
    },
    {
      "cell_type": "code",
      "source": [
        "#delete(pop)\n",
        "mylist=[1,2,3,4,5, \"Mallika\"]\n",
        "mylist.pop(1)\n",
        "print(mylist)\n"
      ],
      "metadata": {
        "colab": {
          "base_uri": "https://localhost:8080/"
        },
        "id": "R_Kv9ND43U31",
        "outputId": "c44f4b6d-22a8-49fb-c80a-8c780c00b395"
      },
      "execution_count": null,
      "outputs": [
        {
          "output_type": "stream",
          "name": "stdout",
          "text": [
            "[1, 3, 4, 5, 'Mallika']\n"
          ]
        }
      ]
    },
    {
      "cell_type": "code",
      "source": [
        "mylist=[1,2,3,4,5, \"Mallika\"]\n",
        "out=mylist.pop(-1)\n",
        "print(out)\n",
        "mylist.pop(0)\n",
        "print(mylist)"
      ],
      "metadata": {
        "colab": {
          "base_uri": "https://localhost:8080/"
        },
        "id": "uL7uk5mu3U7V",
        "outputId": "b82bbaa3-c56e-408a-c9fc-af3d09911594"
      },
      "execution_count": null,
      "outputs": [
        {
          "output_type": "stream",
          "name": "stdout",
          "text": [
            "Mallika\n",
            "[2, 3, 4, 5]\n"
          ]
        }
      ]
    },
    {
      "cell_type": "code",
      "source": [
        "#Using out variable we saved pop element\n",
        "mylist=[1,2,3,4,5, \"Mallika\"]\n",
        "out=mylist.pop(-1)\n",
        "print(out)\n",
        "print(mylist)"
      ],
      "metadata": {
        "colab": {
          "base_uri": "https://localhost:8080/"
        },
        "id": "ja0LXv2Z5DFp",
        "outputId": "fd2d131b-1fdc-4c7c-a697-8857f9521073"
      },
      "execution_count": null,
      "outputs": [
        {
          "output_type": "stream",
          "name": "stdout",
          "text": [
            "Mallika\n",
            "[1, 2, 3, 4, 5]\n"
          ]
        }
      ]
    },
    {
      "cell_type": "code",
      "source": [
        "help(mylist)"
      ],
      "metadata": {
        "colab": {
          "base_uri": "https://localhost:8080/"
        },
        "id": "gKSrKyKn5DR6",
        "outputId": "7e41fad0-663d-45bb-d4ab-4de4e0f40a25"
      },
      "execution_count": null,
      "outputs": [
        {
          "output_type": "stream",
          "name": "stdout",
          "text": [
            "Help on list object:\n",
            "\n",
            "class list(object)\n",
            " |  list(iterable=(), /)\n",
            " |  \n",
            " |  Built-in mutable sequence.\n",
            " |  \n",
            " |  If no argument is given, the constructor creates a new empty list.\n",
            " |  The argument must be an iterable if specified.\n",
            " |  \n",
            " |  Methods defined here:\n",
            " |  \n",
            " |  __add__(self, value, /)\n",
            " |      Return self+value.\n",
            " |  \n",
            " |  __contains__(self, key, /)\n",
            " |      Return key in self.\n",
            " |  \n",
            " |  __delitem__(self, key, /)\n",
            " |      Delete self[key].\n",
            " |  \n",
            " |  __eq__(self, value, /)\n",
            " |      Return self==value.\n",
            " |  \n",
            " |  __ge__(self, value, /)\n",
            " |      Return self>=value.\n",
            " |  \n",
            " |  __getattribute__(self, name, /)\n",
            " |      Return getattr(self, name).\n",
            " |  \n",
            " |  __getitem__(...)\n",
            " |      x.__getitem__(y) <==> x[y]\n",
            " |  \n",
            " |  __gt__(self, value, /)\n",
            " |      Return self>value.\n",
            " |  \n",
            " |  __iadd__(self, value, /)\n",
            " |      Implement self+=value.\n",
            " |  \n",
            " |  __imul__(self, value, /)\n",
            " |      Implement self*=value.\n",
            " |  \n",
            " |  __init__(self, /, *args, **kwargs)\n",
            " |      Initialize self.  See help(type(self)) for accurate signature.\n",
            " |  \n",
            " |  __iter__(self, /)\n",
            " |      Implement iter(self).\n",
            " |  \n",
            " |  __le__(self, value, /)\n",
            " |      Return self<=value.\n",
            " |  \n",
            " |  __len__(self, /)\n",
            " |      Return len(self).\n",
            " |  \n",
            " |  __lt__(self, value, /)\n",
            " |      Return self<value.\n",
            " |  \n",
            " |  __mul__(self, value, /)\n",
            " |      Return self*value.\n",
            " |  \n",
            " |  __ne__(self, value, /)\n",
            " |      Return self!=value.\n",
            " |  \n",
            " |  __repr__(self, /)\n",
            " |      Return repr(self).\n",
            " |  \n",
            " |  __reversed__(self, /)\n",
            " |      Return a reverse iterator over the list.\n",
            " |  \n",
            " |  __rmul__(self, value, /)\n",
            " |      Return value*self.\n",
            " |  \n",
            " |  __setitem__(self, key, value, /)\n",
            " |      Set self[key] to value.\n",
            " |  \n",
            " |  __sizeof__(self, /)\n",
            " |      Return the size of the list in memory, in bytes.\n",
            " |  \n",
            " |  append(self, object, /)\n",
            " |      Append object to the end of the list.\n",
            " |  \n",
            " |  clear(self, /)\n",
            " |      Remove all items from list.\n",
            " |  \n",
            " |  copy(self, /)\n",
            " |      Return a shallow copy of the list.\n",
            " |  \n",
            " |  count(self, value, /)\n",
            " |      Return number of occurrences of value.\n",
            " |  \n",
            " |  extend(self, iterable, /)\n",
            " |      Extend list by appending elements from the iterable.\n",
            " |  \n",
            " |  index(self, value, start=0, stop=9223372036854775807, /)\n",
            " |      Return first index of value.\n",
            " |      \n",
            " |      Raises ValueError if the value is not present.\n",
            " |  \n",
            " |  insert(self, index, object, /)\n",
            " |      Insert object before index.\n",
            " |  \n",
            " |  pop(self, index=-1, /)\n",
            " |      Remove and return item at index (default last).\n",
            " |      \n",
            " |      Raises IndexError if list is empty or index is out of range.\n",
            " |  \n",
            " |  remove(self, value, /)\n",
            " |      Remove first occurrence of value.\n",
            " |      \n",
            " |      Raises ValueError if the value is not present.\n",
            " |  \n",
            " |  reverse(self, /)\n",
            " |      Reverse *IN PLACE*.\n",
            " |  \n",
            " |  sort(self, /, *, key=None, reverse=False)\n",
            " |      Sort the list in ascending order and return None.\n",
            " |      \n",
            " |      The sort is in-place (i.e. the list itself is modified) and stable (i.e. the\n",
            " |      order of two equal elements is maintained).\n",
            " |      \n",
            " |      If a key function is given, apply it once to each list item and sort them,\n",
            " |      ascending or descending, according to their function values.\n",
            " |      \n",
            " |      The reverse flag can be set to sort in descending order.\n",
            " |  \n",
            " |  ----------------------------------------------------------------------\n",
            " |  Class methods defined here:\n",
            " |  \n",
            " |  __class_getitem__(...) from builtins.type\n",
            " |      See PEP 585\n",
            " |  \n",
            " |  ----------------------------------------------------------------------\n",
            " |  Static methods defined here:\n",
            " |  \n",
            " |  __new__(*args, **kwargs) from builtins.type\n",
            " |      Create and return a new object.  See help(type) for accurate signature.\n",
            " |  \n",
            " |  ----------------------------------------------------------------------\n",
            " |  Data and other attributes defined here:\n",
            " |  \n",
            " |  __hash__ = None\n",
            "\n"
          ]
        }
      ]
    },
    {
      "cell_type": "code",
      "source": [
        "for i in [10,20,30,\"hey\"]:\n",
        "    print(i)"
      ],
      "metadata": {
        "colab": {
          "base_uri": "https://localhost:8080/"
        },
        "id": "7xUZCRNO5DVf",
        "outputId": "3e46d820-ffbc-4f68-fb21-0c306df4a318"
      },
      "execution_count": null,
      "outputs": [
        {
          "output_type": "stream",
          "name": "stdout",
          "text": [
            "10\n",
            "20\n",
            "30\n",
            "hey\n"
          ]
        }
      ]
    },
    {
      "cell_type": "code",
      "source": [
        "for i in [10, 21, 17, \"35\", \"hello\", \"Mallika\", 26]:\n",
        "  if(type(i) is int):\n",
        "    print(i)"
      ],
      "metadata": {
        "colab": {
          "base_uri": "https://localhost:8080/"
        },
        "id": "PHvd-lDbUZRi",
        "outputId": "0d786ce5-a3ca-4976-9645-c67790ffbbf6"
      },
      "execution_count": null,
      "outputs": [
        {
          "output_type": "stream",
          "name": "stdout",
          "text": [
            "10\n",
            "21\n",
            "17\n",
            "26\n"
          ]
        }
      ]
    },
    {
      "cell_type": "code",
      "source": [
        "newlist=[]\n",
        "for i in [10,20, 21, 17, \"Mallika\"]:\n",
        "  if(type(i) is int) and i % 2 == 0:\n",
        "   newlist=[]\n",
        "  mylist.append(newlist)\n",
        "print(newlist)\n"
      ],
      "metadata": {
        "colab": {
          "base_uri": "https://localhost:8080/"
        },
        "id": "AvCFWT9c-kPm",
        "outputId": "5ccbb64c-df0d-470e-b924-ba923f3813a7"
      },
      "execution_count": null,
      "outputs": [
        {
          "output_type": "stream",
          "name": "stdout",
          "text": [
            "[]\n"
          ]
        }
      ]
    },
    {
      "cell_type": "code",
      "source": [
        "# tuples are immutable (count and index)\n",
        "mytuple=10\n",
        "print(type(mytuple))"
      ],
      "metadata": {
        "colab": {
          "base_uri": "https://localhost:8080/"
        },
        "id": "LZNAY0vEVBX9",
        "outputId": "cd86a283-5182-43d1-8163-1867e9eddb71"
      },
      "execution_count": null,
      "outputs": [
        {
          "output_type": "stream",
          "name": "stdout",
          "text": [
            "<class 'int'>\n"
          ]
        }
      ]
    },
    {
      "cell_type": "code",
      "source": [
        "#Seprated with commas\n",
        "mytuple=10, 20, \"Mallika\"\n",
        "print(type(mytuple))"
      ],
      "metadata": {
        "colab": {
          "base_uri": "https://localhost:8080/"
        },
        "id": "RY_bXuL5VSVj",
        "outputId": "31b8b4e3-22e7-44a9-fb41-88fe81cf9bc2"
      },
      "execution_count": null,
      "outputs": [
        {
          "output_type": "stream",
          "name": "stdout",
          "text": [
            "<class 'tuple'>\n"
          ]
        }
      ]
    },
    {
      "cell_type": "code",
      "source": [
        "#dictionary(key= identifier, Value = Data )\n",
        "#Ordered and Mutable\n",
        "mydictionary={1:\"Mallika\", 2:\"regex\", 3:\"python\"}\n",
        "mydictionary[2]\n"
      ],
      "metadata": {
        "colab": {
          "base_uri": "https://localhost:8080/",
          "height": 35
        },
        "id": "NtWCmSQyVanP",
        "outputId": "b6a0c06b-4e57-4025-e1c0-5f6c0afea23a"
      },
      "execution_count": null,
      "outputs": [
        {
          "output_type": "execute_result",
          "data": {
            "text/plain": [
              "'regex'"
            ],
            "application/vnd.google.colaboratory.intrinsic+json": {
              "type": "string"
            }
          },
          "metadata": {},
          "execution_count": 17
        }
      ]
    },
    {
      "cell_type": "code",
      "source": [
        "#update (1 is key Mallika is Value)\n",
        "mydictionary={1:\"Mallika\", 2:\"regex\", 3:\"python\"}\n",
        "mydictionary[1]= \"Ayushi\"\n",
        "print(mydictionary)"
      ],
      "metadata": {
        "colab": {
          "base_uri": "https://localhost:8080/"
        },
        "id": "GJxKyA-yZZVm",
        "outputId": "fda0d6cb-dbd2-4aac-f4fc-6a7493f00f31"
      },
      "execution_count": null,
      "outputs": [
        {
          "output_type": "stream",
          "name": "stdout",
          "text": [
            "{1: 'Ayushi', 2: 'regex', 3: 'python'}\n"
          ]
        }
      ]
    },
    {
      "cell_type": "code",
      "source": [
        "#insert\n",
        "mydictionary={1:\"Mallika\", 2:\"regex\", 3:\"python\"}\n",
        "mydictionary[4]= \"Ayushi\"\n",
        "print(mydictionary)"
      ],
      "metadata": {
        "colab": {
          "base_uri": "https://localhost:8080/"
        },
        "outputId": "2a756be0-919b-4aa2-ee9b-2dcfc08f2da9",
        "id": "YIPMuCPDZtoV"
      },
      "execution_count": null,
      "outputs": [
        {
          "output_type": "stream",
          "name": "stdout",
          "text": [
            "{1: 'Mallika', 2: 'regex', 3: 'python', 4: 'Ayushi'}\n"
          ]
        }
      ]
    },
    {
      "cell_type": "code",
      "source": [
        "#delete\n",
        "mydictionary={1:\"Mallika\", 2:\"regex\", 3:\"python\"}\n",
        "mydictionary.pop(2)\n",
        "print(mydictionary)"
      ],
      "metadata": {
        "colab": {
          "base_uri": "https://localhost:8080/"
        },
        "id": "Do3ZBwmQZ0Vb",
        "outputId": "cf71dd08-e74c-4c3c-bdd5-c662f470d3b7"
      },
      "execution_count": null,
      "outputs": [
        {
          "output_type": "stream",
          "name": "stdout",
          "text": [
            "{1: 'Mallika', 3: 'python'}\n"
          ]
        }
      ]
    },
    {
      "cell_type": "code",
      "source": [
        "mydictionary={1:\"Mallika\", 2:\"regex\", 3:\"python\", \"name\": \"kanak\"}\n",
        "mydictionary.keys()\n",
        "mydictionary.values()\n",
        "mydictionary.items()\n"
      ],
      "metadata": {
        "colab": {
          "base_uri": "https://localhost:8080/"
        },
        "id": "jz_F7u_8aEQZ",
        "outputId": "7fb1c7ef-ed40-4a7a-a431-d07281933ca7"
      },
      "execution_count": null,
      "outputs": [
        {
          "output_type": "execute_result",
          "data": {
            "text/plain": [
              "dict_items([(1, 'Mallika'), (2, 'regex'), (3, 'python'), ('name', 'kanak')])"
            ]
          },
          "metadata": {},
          "execution_count": 23
        }
      ]
    },
    {
      "cell_type": "code",
      "source": [
        "mydictionary={1:\"Mallika\", 2:\"regex\", 3:\"python\", \"name\": \"kanak\"}\n",
        "for values in mydictionary:\n",
        "  print(values, mydictionary[values])"
      ],
      "metadata": {
        "colab": {
          "base_uri": "https://localhost:8080/"
        },
        "id": "drgiIdwxbAd_",
        "outputId": "10d7d8d5-0083-4e61-8efc-6597ed1f3ec1"
      },
      "execution_count": null,
      "outputs": [
        {
          "output_type": "stream",
          "name": "stdout",
          "text": [
            "1 Mallika\n",
            "2 regex\n",
            "3 python\n",
            "name kanak\n"
          ]
        }
      ]
    },
    {
      "cell_type": "code",
      "source": [
        "mydictionary={1:\"Mallika\", 2:\"regex\", 3:\"python\", \"name\": \"kanak\"}\n",
        "for x in mydictionary:\n",
        "  print(x, mydictionary.values)"
      ],
      "metadata": {
        "colab": {
          "base_uri": "https://localhost:8080/"
        },
        "id": "d1Z9g0hzC_SG",
        "outputId": "6807de4c-3f5a-4c09-aa81-a122a1ba33e6"
      },
      "execution_count": null,
      "outputs": [
        {
          "output_type": "stream",
          "name": "stdout",
          "text": [
            "1 <built-in method values of dict object at 0x7ac797954f40>\n",
            "2 <built-in method values of dict object at 0x7ac797954f40>\n",
            "3 <built-in method values of dict object at 0x7ac797954f40>\n",
            "name <built-in method values of dict object at 0x7ac797954f40>\n"
          ]
        }
      ]
    },
    {
      "cell_type": "code",
      "source": [
        "#run loop over a string data and print the total characters in form of dictionaries\n",
        "total=0\n",
        "for x in \"hello15\":\n",
        "    total += 1\n",
        "print({\"total\":total})"
      ],
      "metadata": {
        "colab": {
          "base_uri": "https://localhost:8080/"
        },
        "id": "GgY7YxKWbSEv",
        "outputId": "c4915523-a385-4acd-c29a-775288c9818d"
      },
      "execution_count": null,
      "outputs": [
        {
          "output_type": "stream",
          "name": "stdout",
          "text": [
            "{'total': 7}\n"
          ]
        }
      ]
    },
    {
      "cell_type": "code",
      "source": [
        "mydictionary={\"total\":0}\n",
        "for x in \"hello12\":\n",
        "    mydictionary[\"total\"] = mydictionary[\"total\"]+1\n",
        "print(mydictionary)"
      ],
      "metadata": {
        "colab": {
          "base_uri": "https://localhost:8080/"
        },
        "id": "UN0ND_2Pczob",
        "outputId": "32407e4b-b905-4fa4-aca5-1fbfd0fe0409"
      },
      "execution_count": null,
      "outputs": [
        {
          "output_type": "stream",
          "name": "stdout",
          "text": [
            "{'total': 7}\n"
          ]
        }
      ]
    },
    {
      "cell_type": "code",
      "source": [
        "# \"hey tushar hello\" find vowels\n",
        "#{\"e\":2, \"u\":1, \"0\":1}\n"
      ],
      "metadata": {
        "id": "DT3WwGCFdenR"
      },
      "execution_count": null,
      "outputs": []
    },
    {
      "cell_type": "code",
      "source": [
        "#Assingment-\n",
        "#1\n",
        "for i in range(1, 10):\n",
        "    for j in range(i):\n",
        "        print(\" \", end=\" \")\n",
        "    for k in range(i, 9-i):\n",
        "        print(\"*\", end=\" \")\n",
        "    print(\"\")\n"
      ],
      "metadata": {
        "colab": {
          "base_uri": "https://localhost:8080/"
        },
        "id": "gkC7ASlXFJHN",
        "outputId": "b6da0ea5-d059-4fcb-b6e3-97c58bbcd62b"
      },
      "execution_count": null,
      "outputs": [
        {
          "output_type": "stream",
          "name": "stdout",
          "text": [
            "  * * * * * * * \n",
            "    * * * * * \n",
            "      * * * \n",
            "        * \n",
            "          \n",
            "            \n",
            "              \n",
            "                \n",
            "                  \n"
          ]
        }
      ]
    },
    {
      "cell_type": "code",
      "source": [
        "#2\n",
        "for i in range(5):\n",
        "    for j in range(i+1):\n",
        "        print(\"*\", end=\"\")\n",
        "    print(\" \")\n",
        "\n",
        "for i in range(5):\n",
        "    for j in range(5-i-1):\n",
        "        print(\"*\", end=\"\")\n",
        "    print(\" \")\n"
      ],
      "metadata": {
        "colab": {
          "base_uri": "https://localhost:8080/"
        },
        "id": "fiS5D_qxJZd4",
        "outputId": "b2d27b22-d87a-43b7-aadc-b44bf77d46c2"
      },
      "execution_count": null,
      "outputs": [
        {
          "output_type": "stream",
          "name": "stdout",
          "text": [
            "* \n",
            "** \n",
            "*** \n",
            "**** \n",
            "***** \n",
            "**** \n",
            "*** \n",
            "** \n",
            "* \n",
            " \n"
          ]
        }
      ]
    },
    {
      "cell_type": "code",
      "source": [
        "#3\n",
        "for i in range (5):\n",
        "    for j in range(5-i):\n",
        "         print(\"*\", end=\" \")\n",
        "    print(\"\")\n",
        "\n",
        "for i in range (5):\n",
        "    for j in range(i+1):\n",
        "         print(\"*\", end=\" \")\n",
        "    print(\"\")"
      ],
      "metadata": {
        "colab": {
          "base_uri": "https://localhost:8080/"
        },
        "id": "v-egPZ3ZLedj",
        "outputId": "b2cd06bd-5762-42ae-c2fa-3f4527b66d4e"
      },
      "execution_count": null,
      "outputs": [
        {
          "output_type": "stream",
          "name": "stdout",
          "text": [
            "* * * * * \n",
            "* * * * \n",
            "* * * \n",
            "* * \n",
            "* \n",
            "* \n",
            "* * \n",
            "* * * \n",
            "* * * * \n",
            "* * * * * \n"
          ]
        }
      ]
    },
    {
      "cell_type": "code",
      "source": [
        "#4\n",
        "for i in range(5):\n",
        "    print(\"*\", end=\" \")\n",
        "print(\"\")\n",
        "for i in range(5-1):\n",
        "    for j in range(5):\n",
        "        if j == 5 // 2:\n",
        "           print('*', end=' ')\n",
        "        else:\n",
        "             print(' ', end=' ')\n",
        "    print(\"\")"
      ],
      "metadata": {
        "colab": {
          "base_uri": "https://localhost:8080/"
        },
        "id": "cI1E16cmOC5b",
        "outputId": "e0bc4b2b-8da0-47d0-a995-7261c4f438b5"
      },
      "execution_count": null,
      "outputs": [
        {
          "output_type": "stream",
          "name": "stdout",
          "text": [
            "* * * * * \n",
            "    *     \n",
            "    *     \n",
            "    *     \n",
            "    *     \n"
          ]
        }
      ]
    },
    {
      "cell_type": "code",
      "source": [
        "#5\n",
        "for i in range(5):\n",
        "    for j in range(i+1):\n",
        "        print(j+1, end=\" \")\n",
        "    print(\"\")\n"
      ],
      "metadata": {
        "id": "EXdLmah1VbUn",
        "colab": {
          "base_uri": "https://localhost:8080/"
        },
        "outputId": "63a4b588-a97e-4866-83dc-a9b400b124d1"
      },
      "execution_count": 3,
      "outputs": [
        {
          "output_type": "stream",
          "name": "stdout",
          "text": [
            "1 \n",
            "1 2 \n",
            "1 2 3 \n",
            "1 2 3 4 \n",
            "1 2 3 4 5 \n"
          ]
        }
      ]
    },
    {
      "cell_type": "code",
      "source": [
        "#6\n",
        "for i in range(5, 0, -1):\n",
        "    for j in range(1, i+1):\n",
        "        if i == 5 or j == 1 or j == i:\n",
        "            print(j, end=\" \")\n",
        "        else:\n",
        "            print(\" \", end=\" \")\n",
        "    print(\"\")"
      ],
      "metadata": {
        "colab": {
          "base_uri": "https://localhost:8080/"
        },
        "id": "EyT6iGtSRk-i",
        "outputId": "592fc4c8-fdc8-4956-c826-a69579977b5a"
      },
      "execution_count": 14,
      "outputs": [
        {
          "output_type": "stream",
          "name": "stdout",
          "text": [
            "1 2 3 4 5 \n",
            "1     4 \n",
            "1   3 \n",
            "1 2 \n",
            "1 \n"
          ]
        }
      ]
    },
    {
      "cell_type": "code",
      "source": [
        "#7\n",
        "for i in range(1, 6):\n",
        "    for j in range(1, 6):\n",
        "        if j == i or j == 5 or i == 1:\n",
        "            print(j, end=\" \")\n",
        "        else:\n",
        "            print(\" \", end=\" \")\n",
        "    print(\"\")"
      ],
      "metadata": {
        "colab": {
          "base_uri": "https://localhost:8080/"
        },
        "id": "DkZFCdAKSnGl",
        "outputId": "b233958e-7482-4bea-9c3d-f514589702fd"
      },
      "execution_count": 27,
      "outputs": [
        {
          "output_type": "stream",
          "name": "stdout",
          "text": [
            "1 2 3 4 5 \n",
            "  2     5 \n",
            "    3   5 \n",
            "      4 5 \n",
            "        5 \n"
          ]
        }
      ]
    },
    {
      "cell_type": "code",
      "source": [
        "#8\n",
        "num = 1\n",
        "for i in range(3):\n",
        "    for j in range(4 - i):\n",
        "        print(num, end=\" \")\n",
        "        num += 1\n",
        "    for k in range(i + 1):\n",
        "        print(\"*\", end=\" \")\n",
        "    print(\"\")\n",
        ""
      ],
      "metadata": {
        "colab": {
          "base_uri": "https://localhost:8080/"
        },
        "id": "R-8LSUwJZW1l",
        "outputId": "496dab0e-71a4-4f9b-cf8e-e74310633cf0"
      },
      "execution_count": 42,
      "outputs": [
        {
          "output_type": "stream",
          "name": "stdout",
          "text": [
            "1 2 3 4 * \n",
            "5 6 7 * * \n",
            "8 9 * * * \n"
          ]
        }
      ]
    },
    {
      "cell_type": "code",
      "source": [
        "#9\n",
        "    for i in range(4, 0, -1):\n",
        "        for j in range(i):\n",
        "            print(chr(65 + j), end=\" \")\n",
        "        print()"
      ],
      "metadata": {
        "colab": {
          "base_uri": "https://localhost:8080/"
        },
        "id": "xkJHm4KAbz1G",
        "outputId": "ef1be1d2-cf75-441a-a1c7-041404aa48c8"
      },
      "execution_count": 43,
      "outputs": [
        {
          "output_type": "stream",
          "name": "stdout",
          "text": [
            "A B C D \n",
            "A B C \n",
            "A B \n",
            "A \n"
          ]
        }
      ]
    },
    {
      "cell_type": "code",
      "source": [
        "#10\n",
        "num = 4\n",
        "for i in range(4):\n",
        "    line = []\n",
        "    for j in range(4-i):\n",
        "        line.append(chr(65+j))\n",
        "    for k in range(i+1):\n",
        "        line.append(str(k+1))\n",
        "    print(\" \".join(line))\n"
      ],
      "metadata": {
        "colab": {
          "base_uri": "https://localhost:8080/"
        },
        "id": "C0MaeAwzhaB4",
        "outputId": "66447e0a-15fb-4c88-e1a5-3ad4f402ae0c"
      },
      "execution_count": 46,
      "outputs": [
        {
          "output_type": "stream",
          "name": "stdout",
          "text": [
            "A B C D 1\n",
            "A B C 1 2\n",
            "A B 1 2 3\n",
            "A 1 2 3 4\n"
          ]
        }
      ]
    },
    {
      "cell_type": "code",
      "source": [
        "#11\n",
        "current_char = 65\n",
        "for i in range (4):\n",
        "    for j in range(4 - i -1):\n",
        "        print(\" \", end=\" \")\n",
        "    for k in range(i+1):\n",
        "        print(chr(current_char), end=\" \")\n",
        "        current_char += 1\n",
        "    print(\"\")"
      ],
      "metadata": {
        "colab": {
          "base_uri": "https://localhost:8080/"
        },
        "id": "ZwgjTQ21jvii",
        "outputId": "68f49db5-652d-4768-d10b-36983167e5e4"
      },
      "execution_count": 47,
      "outputs": [
        {
          "output_type": "stream",
          "name": "stdout",
          "text": [
            "      A \n",
            "    B C \n",
            "  D E F \n",
            "G H I J \n"
          ]
        }
      ]
    },
    {
      "cell_type": "code",
      "source": [
        "#12\n",
        "num = 1\n",
        "current_char = 65\n",
        "for i in range (4):\n",
        "    for j in range(4-i):\n",
        "      print(chr(current_char), end=\" \")\n",
        "      current_char += 1\n",
        "    for k in range(i+1):\n",
        "        print(num, end=\" \")\n",
        "        num += 1\n",
        "    print(\"\")"
      ],
      "metadata": {
        "colab": {
          "base_uri": "https://localhost:8080/"
        },
        "id": "hj3wo1_Wl60n",
        "outputId": "c53e8987-d11d-4e0b-dca3-021d69f0b2a2"
      },
      "execution_count": 49,
      "outputs": [
        {
          "output_type": "stream",
          "name": "stdout",
          "text": [
            "A B C D 1 \n",
            "E F G 2 3 \n",
            "H I 4 5 6 \n",
            "J 7 8 9 10 \n"
          ]
        }
      ]
    },
    {
      "cell_type": "code",
      "source": [
        "#13\n",
        "current_char = 65\n",
        "for i in range (4):\n",
        "    for j in range(4-i-1):\n",
        "        print(\" \", end=\" \")\n",
        "    for k in range(2*i+1):\n",
        "        print(chr(current_char), end=\" \")\n",
        "        current_char += 1\n",
        "    print(\"\")"
      ],
      "metadata": {
        "colab": {
          "base_uri": "https://localhost:8080/"
        },
        "id": "X9D-aKqYoXPa",
        "outputId": "a4588499-4910-45bd-9acd-d2ab299b03fa"
      },
      "execution_count": 50,
      "outputs": [
        {
          "output_type": "stream",
          "name": "stdout",
          "text": [
            "      A \n",
            "    B C D \n",
            "  E F G H I \n",
            "J K L M N O P \n"
          ]
        }
      ]
    },
    {
      "cell_type": "code",
      "source": [
        "#14\n",
        "current_char = 65\n",
        "for i in range (3):\n",
        "    for j in range(3-i):\n",
        "        print(\" \", end=\" \")\n",
        "    for k in range(2 * i + 1):\n",
        "        print(chr(current_char + k), end=\" \")\n",
        "    print(\"\")"
      ],
      "metadata": {
        "colab": {
          "base_uri": "https://localhost:8080/"
        },
        "id": "aUN7AWfKrXIL",
        "outputId": "3a19a0cc-af0e-4666-bf89-788bc13f34c4"
      },
      "execution_count": 54,
      "outputs": [
        {
          "output_type": "stream",
          "name": "stdout",
          "text": [
            "      A \n",
            "    A B C \n",
            "  A B C D E \n"
          ]
        }
      ]
    },
    {
      "cell_type": "code",
      "source": [
        "#15\n",
        "current_char = 65\n",
        "for i in range (3):\n",
        "    for j in range(3-i-1):\n",
        "        print(\" \", end=\" \")\n",
        "    for k in range(i+1):\n",
        "        if k == i:\n",
        "            print(chr(current_char + k), end=\"\")\n",
        "        else:\n",
        "            print(chr(current_char + k), end=\"  \")\n",
        "    print(\"\")"
      ],
      "metadata": {
        "colab": {
          "base_uri": "https://localhost:8080/"
        },
        "id": "dmChXa8MsmHw",
        "outputId": "6aa0c296-3669-47f0-ca63-8d4d1dd369d7"
      },
      "execution_count": 57,
      "outputs": [
        {
          "output_type": "stream",
          "name": "stdout",
          "text": [
            "    A\n",
            "  A  B\n",
            "A  B  C\n"
          ]
        }
      ]
    },
    {
      "cell_type": "code",
      "source": [
        "#16\n",
        "start_num = 10\n",
        "for i in range (3):\n",
        "    for j in range(3-i-1):\n",
        "        print(\" \", end=\" \")\n",
        "    for k in range(i + 1):\n",
        "        if k == i:\n",
        "            print(start_num + i, end=\"\")\n",
        "        else:\n",
        "            print(start_num + i, end=\"  \")\n",
        "    print(\"\")\n",
        ""
      ],
      "metadata": {
        "colab": {
          "base_uri": "https://localhost:8080/"
        },
        "id": "ZfG-XMTVuNcD",
        "outputId": "0b90a087-837b-4c2d-8f86-71e0b346d6ea"
      },
      "execution_count": 58,
      "outputs": [
        {
          "output_type": "stream",
          "name": "stdout",
          "text": [
            "    10\n",
            "  11  11\n",
            "12  12  12\n"
          ]
        }
      ]
    },
    {
      "cell_type": "code",
      "source": [
        "#17\n",
        "for i in range(4):\n",
        "        for j in range(i+1):\n",
        "            print(chr(65 + j), end=\" \")\n",
        "        print()"
      ],
      "metadata": {
        "colab": {
          "base_uri": "https://localhost:8080/"
        },
        "id": "dCtLuGdMw9fm",
        "outputId": "22f109ad-4634-4e42-82e7-f3c734a1f932"
      },
      "execution_count": 59,
      "outputs": [
        {
          "output_type": "stream",
          "name": "stdout",
          "text": [
            "A \n",
            "A B \n",
            "A B C \n",
            "A B C D \n"
          ]
        }
      ]
    },
    {
      "cell_type": "code",
      "source": [
        "#18\n",
        "current_char = 65\n",
        "for i in range(4):\n",
        "        for j in range(i+1):\n",
        "            print(chr(current_char), end=\" \")\n",
        "            current_char += 1\n",
        "        print()"
      ],
      "metadata": {
        "colab": {
          "base_uri": "https://localhost:8080/"
        },
        "id": "kA37VQwlxrvw",
        "outputId": "ae479451-8c06-4a2e-c13d-9553986ffce6"
      },
      "execution_count": 60,
      "outputs": [
        {
          "output_type": "stream",
          "name": "stdout",
          "text": [
            "A \n",
            "B C \n",
            "D E F \n",
            "G H I J \n"
          ]
        }
      ]
    },
    {
      "cell_type": "code",
      "source": [
        "#19\n",
        "for i in range(4):\n",
        "        for j in range(4-i):\n",
        "            print(chr(65 + j), end=\" \")\n",
        "        print()"
      ],
      "metadata": {
        "colab": {
          "base_uri": "https://localhost:8080/"
        },
        "id": "OfhcGFDlz3Er",
        "outputId": "b8c2a190-8b90-43b4-c515-ec422d69a168"
      },
      "execution_count": 61,
      "outputs": [
        {
          "output_type": "stream",
          "name": "stdout",
          "text": [
            "A B C D \n",
            "A B C \n",
            "A B \n",
            "A \n"
          ]
        }
      ]
    },
    {
      "cell_type": "code",
      "source": [
        "#20\n",
        "num = 1\n",
        "for i in range(4):\n",
        "        for j in range(i+1):\n",
        "            print(num, end=\" \")\n",
        "            num += 1\n",
        "        print()"
      ],
      "metadata": {
        "colab": {
          "base_uri": "https://localhost:8080/"
        },
        "id": "JhZOdRxQ0GF8",
        "outputId": "82ec7f17-d4da-4a16-fff1-8e70dca2145c"
      },
      "execution_count": 62,
      "outputs": [
        {
          "output_type": "stream",
          "name": "stdout",
          "text": [
            "1 \n",
            "2 3 \n",
            "4 5 6 \n",
            "7 8 9 10 \n"
          ]
        }
      ]
    },
    {
      "cell_type": "code",
      "source": [
        "#21\n",
        "for i in range(4):\n",
        "        for j in range(i+1):\n",
        "            print(j+1, end=\" \")\n",
        "        print()"
      ],
      "metadata": {
        "colab": {
          "base_uri": "https://localhost:8080/"
        },
        "id": "JGRSdniI0cib",
        "outputId": "af4b1eb9-e014-4596-a91f-763ca1c03356"
      },
      "execution_count": 67,
      "outputs": [
        {
          "output_type": "stream",
          "name": "stdout",
          "text": [
            "1 \n",
            "1 2 \n",
            "1 2 3 \n",
            "1 2 3 4 \n"
          ]
        }
      ]
    },
    {
      "cell_type": "code",
      "source": [
        "#22\n",
        "for i in range(5):\n",
        "        for j in range(5-i):\n",
        "            print(j+1, end=\" \")\n",
        "        print()"
      ],
      "metadata": {
        "colab": {
          "base_uri": "https://localhost:8080/"
        },
        "id": "HqM0jIE10uQ3",
        "outputId": "7f1f6f21-a36c-4869-aef5-de46aab8aeb7"
      },
      "execution_count": 69,
      "outputs": [
        {
          "output_type": "stream",
          "name": "stdout",
          "text": [
            "1 2 3 4 5 \n",
            "1 2 3 4 \n",
            "1 2 3 \n",
            "1 2 \n",
            "1 \n"
          ]
        }
      ]
    },
    {
      "cell_type": "code",
      "source": [
        "#23\n",
        "for i in range(4):\n",
        "        for j in range(i+1):\n",
        "            print(i+1, end=\" \")\n",
        "        print()"
      ],
      "metadata": {
        "colab": {
          "base_uri": "https://localhost:8080/"
        },
        "id": "3HRST6T607AK",
        "outputId": "393886b7-013f-4396-dd31-086d166a6aff"
      },
      "execution_count": 72,
      "outputs": [
        {
          "output_type": "stream",
          "name": "stdout",
          "text": [
            "1 \n",
            "2 2 \n",
            "3 3 3 \n",
            "4 4 4 4 \n"
          ]
        }
      ]
    },
    {
      "cell_type": "code",
      "source": [
        "#24\n",
        "for i in range(4):\n",
        "        for j in range(4-i):\n",
        "            print(4-j, end=\" \")\n",
        "        print()\n"
      ],
      "metadata": {
        "colab": {
          "base_uri": "https://localhost:8080/"
        },
        "id": "3TWGHh_I1dZp",
        "outputId": "bb3a8dce-a0a6-4979-b38a-37205dcccbd3"
      },
      "execution_count": 73,
      "outputs": [
        {
          "output_type": "stream",
          "name": "stdout",
          "text": [
            "4 3 2 1 \n",
            "4 3 2 \n",
            "4 3 \n",
            "4 \n"
          ]
        }
      ]
    },
    {
      "cell_type": "code",
      "source": [
        "#25\n",
        "start_char = ord(\"F\")\n",
        "for i in range(6):\n",
        "        for j in range(6-i):\n",
        "            print(chr(start_char - j), end=\" \")\n",
        "        print()"
      ],
      "metadata": {
        "colab": {
          "base_uri": "https://localhost:8080/"
        },
        "id": "10vwPNhs23Ko",
        "outputId": "1e81796b-2062-4f32-bf1f-e07b44776b6c"
      },
      "execution_count": 77,
      "outputs": [
        {
          "output_type": "stream",
          "name": "stdout",
          "text": [
            "F E D C B A \n",
            "F E D C B \n",
            "F E D C \n",
            "F E D \n",
            "F E \n",
            "F \n"
          ]
        }
      ]
    },
    {
      "cell_type": "code",
      "source": [
        "#26\n",
        "start_char = ord(\"D\")\n",
        "for i in range(4):\n",
        "        for j in range(i+1):\n",
        "            print(chr(start_char - j), end=\" \")\n",
        "        print()"
      ],
      "metadata": {
        "colab": {
          "base_uri": "https://localhost:8080/"
        },
        "id": "hI1sROzd5QBu",
        "outputId": "d20e2003-672d-4100-f97e-191e5a9e9eeb"
      },
      "execution_count": 80,
      "outputs": [
        {
          "output_type": "stream",
          "name": "stdout",
          "text": [
            "D \n",
            "D C \n",
            "D C B \n",
            "D C B A \n"
          ]
        }
      ]
    },
    {
      "cell_type": "code",
      "source": [
        "#27\n",
        "start_char = ord(\"D\")\n",
        "for i in range(4):\n",
        "        for j in range(4-i):\n",
        "            print(chr(start_char - j), end=\" \")\n",
        "        print()"
      ],
      "metadata": {
        "colab": {
          "base_uri": "https://localhost:8080/"
        },
        "id": "0TGYzBlF6lQe",
        "outputId": "cfc636b2-ee32-4419-99a5-8e60dbec2ce4"
      },
      "execution_count": 81,
      "outputs": [
        {
          "output_type": "stream",
          "name": "stdout",
          "text": [
            "D C B A \n",
            "D C B \n",
            "D C \n",
            "D \n"
          ]
        }
      ]
    },
    {
      "cell_type": "code",
      "source": [
        "#28\n",
        "start_num = 10\n",
        "for i in range (3):\n",
        "    for j in range(i+1):\n",
        "        print(start_num, end=\" \")\n",
        "        start_num += 1\n",
        "    print(\"\")\n",
        ""
      ],
      "metadata": {
        "colab": {
          "base_uri": "https://localhost:8080/"
        },
        "id": "KX7vB7LA61yn",
        "outputId": "dac6f80f-6ba9-46a8-e8ba-f50163f1dbf1"
      },
      "execution_count": 87,
      "outputs": [
        {
          "output_type": "stream",
          "name": "stdout",
          "text": [
            "10 \n",
            "11 12 \n",
            "13 14 15 \n"
          ]
        }
      ]
    },
    {
      "cell_type": "code",
      "source": [
        "#29\n",
        "start_num = 10\n",
        "for i in range (4):\n",
        "    for j in range(i+1):\n",
        "        print(start_num + j, end=\" \")\n",
        "\n",
        "    print(\"\")"
      ],
      "metadata": {
        "colab": {
          "base_uri": "https://localhost:8080/"
        },
        "id": "sAqANcqh7rID",
        "outputId": "eb1c9c6c-7eaa-4961-df7d-f0af697b18e3"
      },
      "execution_count": 89,
      "outputs": [
        {
          "output_type": "stream",
          "name": "stdout",
          "text": [
            "10 \n",
            "10 11 \n",
            "10 11 12 \n",
            "10 11 12 13 \n"
          ]
        }
      ]
    },
    {
      "cell_type": "code",
      "source": [
        "#30\n",
        "for i in range(1,6):\n",
        "        for j in range(1,i+1):\n",
        "            if j % 2 == 0:\n",
        "                print(\"2\", end=\" \")\n",
        "            else:\n",
        "                print(\"1\", end=\" \")\n",
        "        print()"
      ],
      "metadata": {
        "colab": {
          "base_uri": "https://localhost:8080/"
        },
        "id": "PvzVUcWy76bE",
        "outputId": "71d6be7d-3708-4e7c-d84d-04014dbffc26"
      },
      "execution_count": 94,
      "outputs": [
        {
          "output_type": "stream",
          "name": "stdout",
          "text": [
            "1 \n",
            "1 2 \n",
            "1 2 1 \n",
            "1 2 1 2 \n",
            "1 2 1 2 1 \n"
          ]
        }
      ]
    },
    {
      "cell_type": "code",
      "source": [
        "\n"
      ],
      "metadata": {
        "id": "rV-ckZlZ9RH6"
      },
      "execution_count": 98,
      "outputs": []
    }
  ]
}