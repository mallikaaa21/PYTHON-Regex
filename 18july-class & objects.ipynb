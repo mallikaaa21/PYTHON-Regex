{
  "nbformat": 4,
  "nbformat_minor": 0,
  "metadata": {
    "colab": {
      "provenance": []
    },
    "kernelspec": {
      "name": "python3",
      "display_name": "Python 3"
    },
    "language_info": {
      "name": "python"
    }
  },
  "cells": [
    {
      "cell_type": "code",
      "execution_count": null,
      "metadata": {
        "id": "kPSmeVaGpI85"
      },
      "outputs": [],
      "source": [
        "# Classes => collection of object\n",
        "# Object => real time integer with characterstics and behaviour"
      ]
    },
    {
      "cell_type": "code",
      "source": [
        "class house:\n",
        "   #variable\n",
        "   color = \"white\"\n",
        "   room = 4"
      ],
      "metadata": {
        "id": "pD6GkWXCwBAP"
      },
      "execution_count": 3,
      "outputs": []
    },
    {
      "cell_type": "code",
      "source": [
        "#object\n",
        "h1 = house()\n",
        "print(h1.color)\n",
        "print(h1.room)"
      ],
      "metadata": {
        "colab": {
          "base_uri": "https://localhost:8080/"
        },
        "id": "1UBJaapAwH9i",
        "outputId": "1afebf0c-1ef6-497b-ea1e-b2f9d47a7db6"
      },
      "execution_count": 5,
      "outputs": [
        {
          "output_type": "stream",
          "name": "stdout",
          "text": [
            "white\n",
            "4\n"
          ]
        }
      ]
    },
    {
      "cell_type": "code",
      "source": [
        "h2 = house()\n",
        "print(h2.color)\n",
        "print(h2.room)"
      ],
      "metadata": {
        "colab": {
          "base_uri": "https://localhost:8080/"
        },
        "id": "4Ht0fSogweB_",
        "outputId": "531291fc-eee4-4dcf-f6fa-db6f6628ffa5"
      },
      "execution_count": 6,
      "outputs": [
        {
          "output_type": "stream",
          "name": "stdout",
          "text": [
            "white\n",
            "4\n"
          ]
        }
      ]
    },
    {
      "cell_type": "code",
      "source": [
        "class house:\n",
        "   #variable\n",
        "   color = \"white\"\n",
        "   room = 4\n",
        "   def info(self):\n",
        "       print(\"Variable are:\", self.color, self.room)"
      ],
      "metadata": {
        "id": "QpZEoo3pwro5"
      },
      "execution_count": 7,
      "outputs": []
    },
    {
      "cell_type": "code",
      "source": [
        "h10 = house()\n",
        "h10.info()"
      ],
      "metadata": {
        "colab": {
          "base_uri": "https://localhost:8080/"
        },
        "id": "Fj0K1Bqqxi_n",
        "outputId": "5aa758d8-36db-4d78-f482-e851bec7381b"
      },
      "execution_count": 11,
      "outputs": [
        {
          "output_type": "stream",
          "name": "stdout",
          "text": [
            "Variable are: white 4\n"
          ]
        }
      ]
    },
    {
      "cell_type": "code",
      "source": [
        "h10 = house()\n",
        "h10.color = \"pink\"\n",
        "h10.room = 5\n",
        "h10.info()"
      ],
      "metadata": {
        "colab": {
          "base_uri": "https://localhost:8080/"
        },
        "id": "Ab0ENiDgxnAn",
        "outputId": "a8c1a3c1-0fc6-4156-8100-4c351a0fb571"
      },
      "execution_count": 12,
      "outputs": [
        {
          "output_type": "stream",
          "name": "stdout",
          "text": [
            "Variable are: pink 5\n"
          ]
        }
      ]
    },
    {
      "cell_type": "code",
      "source": [
        "class house:\n",
        "    # Constructor => function => object memory initialize\n",
        "    def __init__(self):\n",
        "         print(\"House to be created\")\n",
        "h1 = house()"
      ],
      "metadata": {
        "colab": {
          "base_uri": "https://localhost:8080/"
        },
        "id": "ifgRH7L8yYfa",
        "outputId": "304bce39-ae77-4afb-e23b-b7e5ca16eb57"
      },
      "execution_count": 14,
      "outputs": [
        {
          "output_type": "stream",
          "name": "stdout",
          "text": [
            "House to be created\n"
          ]
        }
      ]
    },
    {
      "cell_type": "code",
      "source": [
        "class house:\n",
        "    # Constructor => function => object memory initialize\n",
        "    def __init__(self):\n",
        "         print(\"House to be created\")\n",
        "h1 = house()\n",
        "h2 = house()"
      ],
      "metadata": {
        "colab": {
          "base_uri": "https://localhost:8080/"
        },
        "id": "2AbP52LkzZJT",
        "outputId": "7acb18ab-e584-4688-ac00-00d637d800dd"
      },
      "execution_count": 15,
      "outputs": [
        {
          "output_type": "stream",
          "name": "stdout",
          "text": [
            "House to be created\n",
            "House to be created\n"
          ]
        }
      ]
    },
    {
      "cell_type": "code",
      "source": [
        "class house:\n",
        "\n",
        "    def __init__(self, x):\n",
        "         print(\"House to be created:\", x)\n",
        "h1 = house(\"white\")\n",
        "h2 = house(\"pink\")"
      ],
      "metadata": {
        "colab": {
          "base_uri": "https://localhost:8080/"
        },
        "id": "2tXWF9FyzdNv",
        "outputId": "57f55dda-05a7-46af-edbd-2b81eea9711e"
      },
      "execution_count": 17,
      "outputs": [
        {
          "output_type": "stream",
          "name": "stdout",
          "text": [
            "House to be created: white\n",
            "House to be created: pink\n"
          ]
        }
      ]
    },
    {
      "cell_type": "code",
      "source": [
        "class house:\n",
        "\n",
        "    def __init__(self, x):\n",
        "         self.color = x\n",
        "\n",
        "h1 = house(\"white\")\n",
        "h1.color\n",
        "h2 = house(\"pink\")\n",
        "h2.color"
      ],
      "metadata": {
        "colab": {
          "base_uri": "https://localhost:8080/",
          "height": 35
        },
        "id": "RV14swdl0DIe",
        "outputId": "8783fa4e-159b-4930-9397-9b6c8ebb5ec4"
      },
      "execution_count": 18,
      "outputs": [
        {
          "output_type": "execute_result",
          "data": {
            "text/plain": [
              "'pink'"
            ],
            "application/vnd.google.colaboratory.intrinsic+json": {
              "type": "string"
            }
          },
          "metadata": {},
          "execution_count": 18
        }
      ]
    },
    {
      "cell_type": "code",
      "source": [
        "class house:\n",
        "\n",
        "    def __init__(self, x,y):\n",
        "         self.color = x\n",
        "         self.room = y\n",
        "\n",
        "h1 = house(\"white\", 4)\n",
        "print(\"h1:\", h1.color, h1.room)\n",
        "h2 = house(\"pink\", 6)\n",
        "print(\"h2:\", h2.color, h2.room)"
      ],
      "metadata": {
        "colab": {
          "base_uri": "https://localhost:8080/"
        },
        "id": "eESc2HpZ0ma8",
        "outputId": "01d194b5-bbc9-49ae-aa53-63181617fbdb"
      },
      "execution_count": 19,
      "outputs": [
        {
          "output_type": "stream",
          "name": "stdout",
          "text": [
            "h1: white 4\n",
            "h2: pink 6\n"
          ]
        }
      ]
    },
    {
      "cell_type": "code",
      "source": [
        "# inheritence"
      ],
      "metadata": {
        "id": "ikl1nhK01Aq1"
      },
      "execution_count": null,
      "outputs": []
    },
    {
      "cell_type": "code",
      "source": [
        "class Parents:\n",
        "    amount = 50000\n",
        "class Child(Parents):\n",
        "    salary=10000\n",
        "c1=Child()\n",
        "c1.amount"
      ],
      "metadata": {
        "colab": {
          "base_uri": "https://localhost:8080/"
        },
        "id": "FpknvhTT2qcL",
        "outputId": "3267b2f8-2da5-4e5b-d51c-93a02bc83d8b"
      },
      "execution_count": 20,
      "outputs": [
        {
          "output_type": "execute_result",
          "data": {
            "text/plain": [
              "50000"
            ]
          },
          "metadata": {},
          "execution_count": 20
        }
      ]
    },
    {
      "cell_type": "code",
      "source": [
        "class Driver:\n",
        "    def __init__(self, id, name):\n",
        "       self.id=id\n",
        "class Customer:\n",
        "    def __init__(self,id, name):\n",
        "       self.id=id\n",
        "       self.name=name\n",
        "c1=Customer(104, \"Mallika\")\n",
        "c1.name"
      ],
      "metadata": {
        "colab": {
          "base_uri": "https://localhost:8080/",
          "height": 35
        },
        "id": "yMm50BGm3gBC",
        "outputId": "73a35208-a720-40be-91ca-c65a4e581143"
      },
      "execution_count": 24,
      "outputs": [
        {
          "output_type": "execute_result",
          "data": {
            "text/plain": [
              "'Mallika'"
            ],
            "application/vnd.google.colaboratory.intrinsic+json": {
              "type": "string"
            }
          },
          "metadata": {},
          "execution_count": 24
        }
      ]
    },
    {
      "cell_type": "code",
      "source": [
        "class Driver:\n",
        "    def __init__(self, id, name):\n",
        "       self.id=id\n",
        "       self.name=name\n",
        "class Customer(Driver):\n",
        "    def __init__(self,cid,cname):\n",
        "        super().__init__(cid, cname)\n",
        "\n",
        "c1=Customer(104, \"Mallika\")\n",
        "c1.name"
      ],
      "metadata": {
        "colab": {
          "base_uri": "https://localhost:8080/",
          "height": 35
        },
        "id": "xcbE7Jae4dn5",
        "outputId": "394f3c7d-d7e0-41a3-f993-52172830de41"
      },
      "execution_count": 29,
      "outputs": [
        {
          "output_type": "execute_result",
          "data": {
            "text/plain": [
              "'Mallika'"
            ],
            "application/vnd.google.colaboratory.intrinsic+json": {
              "type": "string"
            }
          },
          "metadata": {},
          "execution_count": 29
        }
      ]
    }
  ]
}